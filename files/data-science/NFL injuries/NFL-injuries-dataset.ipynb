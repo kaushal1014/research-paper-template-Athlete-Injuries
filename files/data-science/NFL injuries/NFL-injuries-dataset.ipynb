{
 "cells": [
  {
   "cell_type": "code",
   "execution_count": 1,
   "metadata": {},
   "outputs": [
    {
     "name": "stderr",
     "output_type": "stream",
     "text": [
      "c:\\Users\\kaush\\AppData\\Local\\Programs\\Python\\Python310\\lib\\site-packages\\tqdm\\auto.py:22: TqdmWarning: IProgress not found. Please update jupyter and ipywidgets. See https://ipywidgets.readthedocs.io/en/stable/user_install.html\n",
      "  from .autonotebook import tqdm as notebook_tqdm\n"
     ]
    },
    {
     "data": {
      "text/html": [
       "        <script type=\"text/javascript\">\n",
       "        window.PlotlyConfig = {MathJaxConfig: 'local'};\n",
       "        if (window.MathJax && window.MathJax.Hub && window.MathJax.Hub.Config) {window.MathJax.Hub.Config({SVG: {font: \"STIX-Web\"}});}\n",
       "        if (typeof require !== 'undefined') {\n",
       "        require.undef(\"plotly\");\n",
       "        requirejs.config({\n",
       "            paths: {\n",
       "                'plotly': ['https://cdn.plot.ly/plotly-2.12.1.min']\n",
       "            }\n",
       "        });\n",
       "        require(['plotly'], function(Plotly) {\n",
       "            window._Plotly = Plotly;\n",
       "        });\n",
       "        }\n",
       "        </script>\n",
       "        "
      ]
     },
     "metadata": {},
     "output_type": "display_data"
    }
   ],
   "source": [
    "import matplotlib.pylab as plt\n",
    "import seaborn as sns\n",
    "import numpy as np\n",
    "import pandas as pd\n",
    "import pandas_profiling\n",
    "import plotly.graph_objects as go\n",
    "from plotly.offline import download_plotlyjs, init_notebook_mode,  iplot\n",
    "from PIL import Image\n",
    "from scipy import stats\n",
    "import warnings, os, gc, psutil, random, sklearn\n",
    "import seaborn as sns\n",
    "from functools import reduce\n",
    "import matplotlib.pylab as plt\n",
    "import lightgbm as lgb\n",
    "from sklearn.model_selection import train_test_split\n",
    "from itertools import cycle, islice\n",
    "\n",
    "pd.options.mode.chained_assignment = None\n",
    "warnings.filterwarnings(\"ignore\")\n",
    "init_notebook_mode(connected=True)"
   ]
  },
  {
   "cell_type": "code",
   "execution_count": 10,
   "metadata": {},
   "outputs": [],
   "source": [
    "tracks = pd.read_csv('PlayerTrackData.csv',\n",
    "                        dtype={'time':'float64',\n",
    "                                'x':'float16',\n",
    "                                'y':'float16',\n",
    "                                'dir': 'float16',\n",
    "                                'dis': 'float16',\n",
    "                                'o':'float16',\n",
    "                                's':'float16'})\n",
    "\n",
    "plays = pd.read_csv('PlayList.csv')\n",
    "injury = pd.read_csv('InjuryRecord.csv')\n",
    "\n",
    "# Create injury detailed by merging on play information\n",
    "injury_detailed = injury.merge(plays, how='left')\n",
    "injury_detailed = injury_detailed.merge(plays[['PlayerKey','RosterPosition']].drop_duplicates() \\\n",
    "                                            .rename(columns={'RosterPosition':'RosterPosition_notplay'}))\n",
    "injury_detailed['RosterPosition_notplay'] = injury_detailed['RosterPosition_notplay'] \\\n",
    "    .replace({'Safety':'Defensive Back',\n",
    "              'Cornerback' : 'Defensive Back'})"
   ]
  },
  {
   "cell_type": "code",
   "execution_count": 8,
   "metadata": {},
   "outputs": [
    {
     "data": {
      "image/png": "[encoded data removed]",
      "text/plain": [
       "<Figure size 576x432 with 1 Axes>"
      ]
     },
     "metadata": {},
     "output_type": "display_data"
    }
   ],
   "source": [
    "\n",
    "plt.style.use('fivethirtyeight')\n",
    "# Find Injury Rate by Surface\n",
    "injury_playkeys = injury['PlayKey'].unique()\n",
    "plays['counter'] = 1 # Column used when grouping to count\n",
    "plays['isInjuryPlay'] = False\n",
    "plays.loc[plays['PlayKey'].isin(injury_playkeys), 'isInjuryPlay'] = True\n",
    "\n",
    "# Plot Results\n",
    "fig, ax = plt.subplots(1, 1, figsize=(8, 6))\n",
    "(plays.groupby('FieldType')[['isInjuryPlay']].mean() * 100000).plot(kind='bar', ax=ax)\n",
    "ax.get_legend().remove()\n",
    "ax.set_xlabel('')\n",
    "ax.set_title('Lower Body Injury Rate by Surface')\n",
    "ax.set_ylabel('Injury per \\n 100,000 plays', rotation=0, fontsize=13, color='darkgrey')\n",
    "ax.yaxis.set_label_coords(-0.12,0.85)\n",
    "for p in ax.patches:\n",
    "    ax.annotate(f'{int(p.get_height())}',\n",
    "                (p.get_x() + 0.20,\n",
    "                 p.get_height() - 3),\n",
    "                 fontsize=20,\n",
    "                color='white')\n",
    "ax.axhline(0, color='k')\n",
    "plt.xticks(rotation=0)\n",
    "plt.show()"
   ]
  }
 ],
 "metadata": {
  "kernelspec": {
   "display_name": "Python 3 (ipykernel)",
   "language": "python",
   "name": "python3"
  },
  "language_info": {
   "codemirror_mode": {
    "name": "ipython",
    "version": 3
   },
   "file_extension": ".py",
   "mimetype": "text/x-python",
   "name": "python",
   "nbconvert_exporter": "python",
   "pygments_lexer": "ipython3",
   "version": "3.10.2"
  },
  "toc-autonumbering": false,
  "toc-showcode": false,
  "toc-showmarkdowntxt": true,
  "vscode": {
   "interpreter": {
    "hash": "a775d68c7caa7466e6467fb23007def76106cad7ddbb74102d7b5c3b443bac69"
   }
  }
 },
 "nbformat": 4,
 "nbformat_minor": 4
}
