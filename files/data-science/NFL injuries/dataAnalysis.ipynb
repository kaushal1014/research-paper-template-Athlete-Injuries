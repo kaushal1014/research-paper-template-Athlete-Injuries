{
 "cells": [
  {
   "cell_type": "code",
   "execution_count": 1,
   "id": "a2ad3b34-ed9d-4dc8-a78b-2615095e8081",
   "metadata": {},
   "outputs": [],
   "source": [
    "import matplotlib.pylab as plt\n",
    "import seaborn as sns\n",
    "import numpy as np\n",
    "import pandas as pd\n",
    "import warnings\n",
    "import os \n",
    "import gc\n",
    "import psutil\n",
    "import plotly.express as px\n",
    "from scipy import stats\n",
    "warnings.filterwarnings(\"ignore\")"
   ]
  },
  {
   "cell_type": "code",
   "execution_count": 2,
   "id": "89160539-59e6-415b-ba9e-7f34dd15ce1e",
   "metadata": {},
   "outputs": [],
   "source": [
    "#If you are running this on colab SKIP this step\n",
    "InjuryRecord = pd.read_csv(\"InjuryRecord.csv\")\n",
    "PlayList = pd.read_csv(\"PlayList.csv\")\n",
    "PlayerTrackData = pd.read_csv(\"PlayerTrackData.csv\")"
   ]
  },
  {
   "cell_type": "code",
   "execution_count": 3,
   "id": "9d6e97ee",
   "metadata": {},
   "outputs": [],
   "source": [
    "#If you are running this on colab RUN this code to read data\n",
    "InjuryRecord = pd.read_csv(\"https://raw.githubusercontent.com/kaushal1014/research-paper-template-Athlete-Injuries/master/files/data-science/NFL%20injuries/InjuryRecord.csv\")\n",
    "PlayList = pd.read_csv(\"https://raw.githubusercontent.com/kaushal1014/research-paper-template-Athlete-Injuries/master/files/data-science/NFL%20injuries/PlayList.csv\")\n",
    "PlayerTrackData = pd.read_csv(\"https://raw.githubusercontent.com/kaushal1014/research-paper-template-Athlete-Injuries/master/files/data-science/NFL%20injuries/PlayerTrackData.csv\")"
   ]
  },
  {
   "cell_type": "code",
   "execution_count": 4,
   "id": "3f0ecec2-ab01-4ae7-aedf-f46185e7d3cc",
   "metadata": {},
   "outputs": [],
   "source": [
    "array_outdoors = ['Outdoor', 'Oudoor', 'Outdoors',\n",
    "       'Ourdoor', 'Outddors', 'Heinz Field', 'Outdor', 'Outside', 'Cloudy']\n",
    "array_indoors = ['Indoors', 'Indoor', 'Indoor', 'Retractable Roof']\n",
    "array_open = ['Open','Outdoor Retr Roof-Open', 'Retr. Roof-Open', 'Indoor, Open Roof',\n",
    "       'Domed, Open', 'Domed, open', 'Retr. Roof - Open']\n",
    "array_closed = ['Closed Dome', 'Domed, closed', 'Dome', 'Domed',\n",
    "       'Retr. Roof-Closed', 'Outdoor Retr Roof-Open', 'Retractable Roof', 'Indoor, Roof Closed', 'Retr. Roof - Closed', 'Bowl', 'Dome, closed',\n",
    "       'Retr. Roof Closed']\n",
    "\n",
    "PlayList['StadiumType'] = PlayList['StadiumType'].replace(array_outdoors, 'Outdoors')\n",
    "PlayList['StadiumType'] = PlayList['StadiumType'].replace(array_indoors, 'Indoors')\n",
    "PlayList['StadiumType'] = PlayList['StadiumType'].replace(array_open, 'Open')\n",
    "PlayList['StadiumType'] = PlayList['StadiumType'].replace(array_closed, 'Closed')"
   ]
  },
  {
   "cell_type": "code",
   "execution_count": 5,
   "id": "4c629bfb-e6b2-482d-95e8-1dc704a98fdf",
   "metadata": {},
   "outputs": [],
   "source": [
    "array_clear = ['Clear and warm', 'Sunny', 'Clear',\n",
    "       'Sunny and warm', 'Clear and Cool',\n",
    "       'Clear and cold', 'Sunny and cold', 'Partly Sunny',\n",
    "       'Mostly Sunny', 'Clear Skies', 'Partly sunny', \n",
    "       'Sunny and clear', 'Clear skies',\n",
    "       'Sunny Skies', 'Fair', 'Partly clear', \n",
    "       'Heat Index 95', 'Sunny, highs to upper 80s', \n",
    "       'Mostly sunny', 'Sunny, Windy', 'Mostly Sunny Skies', \n",
    "       'Clear and Sunny', 'Clear and sunny',\n",
    "       'Clear to Partly Cloudy', 'Cold']\n",
    "\n",
    "array_cloudy = ['Mostly Cloudy', 'Cloudy',\n",
    "       'Cloudy, fog started developing in 2nd quarter',\n",
    "       'Partly Cloudy', 'Mostly cloudy', 'Cloudy and cold',\n",
    "       'Cloudy and Cool', 'Partly cloudy', \n",
    "       'Party Cloudy', 'Hazy', 'Partly Clouidy',\n",
    "       'Overcast', 'Cloudy, 50% change of rain',\n",
    "       'Mostly Coudy', 'Cloudy, chance of rain',\n",
    "       'Sun & clouds', 'Cloudy, Rain',\n",
    "       'cloudy', 'Coudy']\n",
    "\n",
    "array_indoors = ['Controlled Climate','Indoor',\n",
    "       'N/A (Indoors)', 'Indoors', 'N/A Indoor']\n",
    "\n",
    "array_precip = ['Rain',\n",
    "       'Snow',\n",
    "       'Scattered Showers',\n",
    "       'Light Rain',\n",
    "       'Heavy lake effect snow', 'Cloudy, Rain',\n",
    "       'Rainy',\n",
    "       'Cloudy, light snow accumulating 1-3\"',\n",
    "       'Cloudy with periods of rain, thunder possible. Winds shifting to WNW, 10-20 mph.',\n",
    "       'Rain shower', 'Rain likely, temps in low 40s.', 'Rain Chance 40%', 'Rain likely, temps in low 40s.',\n",
    "       'Cloudy, 50% change of rain', '10% Chance of Rain', 'Showers', '30% Chance of Rain']\n",
    "\n",
    "PlayList['Weather'] = PlayList['Weather'].replace(array_clear, 'Clear')\n",
    "PlayList['Weather'] = PlayList['Weather'].replace(array_cloudy, 'Cloudy')\n",
    "PlayList['Weather'] = PlayList['Weather'].replace(array_indoors, 'Indoors')\n",
    "PlayList['Weather'] = PlayList['Weather'].replace(array_precip, 'Precipitation')"
   ]
  },
  {
   "cell_type": "code",
   "execution_count": 6,
   "id": "b5df289b-2fa1-4acc-9361-136c8c6591be",
   "metadata": {},
   "outputs": [],
   "source": [
    "total = pd.merge(PlayList, InjuryRecord, on='PlayKey',how='left')"
   ]
  },
  {
   "cell_type": "code",
   "execution_count": 7,
   "id": "0d6be785-1379-4558-8665-c04dabcc8edd",
   "metadata": {},
   "outputs": [],
   "source": [
    "final = pd.merge(total, PlayerTrackData, on='PlayKey',how='left')\n",
    "final['DM_M1'] = final['DM_M1'].fillna(0).astype(int)\n",
    "final['DM_M7'] = final['DM_M7'].fillna(0).astype(int)\n",
    "final['DM_M28'] = final['DM_M28'].fillna(0).astype(int)\n",
    "final['DM_M42'] = final['DM_M42'].fillna(0).astype(int)"
   ]
  },
  {
   "cell_type": "code",
   "execution_count": 8,
   "id": "3242df10-f407-4457-9ecd-155c63014db7",
   "metadata": {},
   "outputs": [],
   "source": [
    "injury = pd.merge(InjuryRecord, PlayList, on='PlayKey',how='inner')"
   ]
  },
  {
   "cell_type": "code",
   "execution_count": 9,
   "id": "2bbc374f-9b91-49d4-8eb4-c1e6b61d5b11",
   "metadata": {},
   "outputs": [],
   "source": [
    "injured = pd.merge(injury, PlayerTrackData, on='PlayKey',how='inner')"
   ]
  },
  {
   "cell_type": "code",
   "execution_count": 10,
   "id": "7ddc544c-c1c3-441e-98aa-e5ca61c4f150",
   "metadata": {},
   "outputs": [
    {
     "name": "stdout",
     "output_type": "stream",
     "text": [
      "Natural      22.082047\n",
      "Synthetic    39.324216\n",
      "Name: FieldType, dtype: float64\n"
     ]
    }
   ],
   "source": [
    "injury_rate = (injured['FieldType'].value_counts()/final['FieldType'].value_counts() )*100000\n",
    "print(injury_rate)"
   ]
  },
  {
   "cell_type": "code",
   "execution_count": 11,
   "id": "353b67d2-7e50-44f7-b52c-16556d4f0082",
   "metadata": {},
   "outputs": [
    {
     "data": {
      "image/png": "[encoded data removed]",
      "text/plain": [
       "<Figure size 864x576 with 1 Axes>"
      ]
     },
     "metadata": {
      "needs_background": "light"
     },
     "output_type": "display_data"
    },
    {
     "data": {
      "text/plain": [
       "<Figure size 432x288 with 0 Axes>"
      ]
     },
     "metadata": {},
     "output_type": "display_data"
    }
   ],
   "source": [
    "ax = injury_rate.plot(title='Injuries Occur Over 1.8x More Often On Synthetic Fields', \n",
    "                      kind='barh', figsize=(12,8), color='#2678B2', fontsize=12)\n",
    "vals = ax.get_xticks()\n",
    "ax.xaxis.label.set_size(14)\n",
    "ax = plt.xlabel('Injury Rate (%)')\n",
    "ax = plt.ylabel('Field Type')\n",
    "fig1 = plt.gcf()\n",
    "plt.show()\n",
    "plt.draw()\n",
    "fig1.savefig('graphs/Surface-distribution.png', dpi=100, transparent=False, facecolor='white')"
   ]
  },
  {
   "cell_type": "code",
   "execution_count": 12,
   "id": "169d6e6b-14da-4a2c-a482-dc5c92ef20d2",
   "metadata": {},
   "outputs": [],
   "source": [
    "injured_syn = injured[injured['Surface']=='Synthetic']\n",
    "injured_nat = injured[injured['Surface']=='Natural']"
   ]
  },
  {
   "cell_type": "code",
   "execution_count": 13,
   "id": "80a0b427-926c-49e0-8356-55ef22e056d7",
   "metadata": {},
   "outputs": [],
   "source": [
    "inj_s_syn = injured_syn.groupby('PlayKey', as_index=False)['s'].max()\n",
    "inj_s_nat = injured_nat.groupby('PlayKey', as_index=False)['s'].max()\n"
   ]
  },
  {
   "cell_type": "code",
   "execution_count": 14,
   "id": "a712a87f-a87c-4ccf-8d0f-b4a32d1520d4",
   "metadata": {},
   "outputs": [
    {
     "data": {
      "image/png": "[encoded data removed]",
      "text/plain": [
       "<Figure size 432x288 with 1 Axes>"
      ]
     },
     "metadata": {
      "needs_background": "light"
     },
     "output_type": "display_data"
    },
    {
     "data": {
      "text/plain": [
       "<Figure size 432x288 with 0 Axes>"
      ]
     },
     "metadata": {},
     "output_type": "display_data"
    }
   ],
   "source": [
    "ax = sns.kdeplot(data=inj_s_syn ['s'], label='Synthetic', shade=True)\n",
    "ax = sns.kdeplot(data=inj_s_nat['s'], label='Natural', shade=True)\n",
    "ax = plt.title(\"Distribution of Max Speed of Synthetic and Natural Turf\")\n",
    "ax = plt.xlabel('Yards Per Second')\n",
    "ax = plt.ylabel('Density')\n",
    "ax= plt.legend()\n",
    "fig1 = plt.gcf()\n",
    "plt.show()\n",
    "plt.draw()\n",
    "fig1.savefig('graphs/Distribution of Max Speed.png', dpi=90, transparent=False, facecolor='white')"
   ]
  },
  {
   "cell_type": "code",
   "execution_count": 15,
   "id": "63af3008-f1df-4837-8a3e-75dfe511f18a",
   "metadata": {},
   "outputs": [
    {
     "data": {
      "image/png": "[encoded data removed]",
      "text/plain": [
       "<Figure size 432x288 with 1 Axes>"
      ]
     },
     "metadata": {
      "needs_background": "light"
     },
     "output_type": "display_data"
    },
    {
     "data": {
      "text/plain": [
       "<Figure size 432x288 with 0 Axes>"
      ]
     },
     "metadata": {},
     "output_type": "display_data"
    }
   ],
   "source": [
    "inj_dis_syn = injured_syn.groupby('PlayKey', as_index=False)['dis'].max()\n",
    "inj_dis_nat = injured_nat.groupby('PlayKey', as_index=False)['dis'].max()\n",
    "ax = sns.kdeplot(data=inj_dis_syn ['dis'], label='Synthetic', shade=True, legend=True, color=\"green\")\n",
    "ax = sns.kdeplot(data=inj_dis_nat['dis'], label='Natural', shade=True, legend=True)\n",
    "ax = plt.title(\"Distribution of Max Distance of Synthetic and Natural Turf\")\n",
    "ax = plt.xlabel('Yards Per Second')\n",
    "ax = plt.ylabel('Density')\n",
    "ax= plt.legend()\n",
    "fig1 = plt.gcf()\n",
    "plt.show()\n",
    "plt.draw()\n",
    "fig1.savefig('graphs/Distribution of Max Distance of Synthetic and Natural Turf.png', dpi=50, transparent=False, facecolor='white')"
   ]
  },
  {
   "cell_type": "code",
   "execution_count": 16,
   "id": "2bf5947c-3f1e-45a3-87e4-db38b6a58aa3",
   "metadata": {},
   "outputs": [
    {
     "name": "stdout",
     "output_type": "stream",
     "text": [
      "The difference in the number of plays until injury on synthetic and natural turf is not statistically significant.\n",
      "p-value: 0.114798\n"
     ]
    },
    {
     "data": {
      "image/png": "[encoded data removed]",
      "text/plain": [
       "<Figure size 432x288 with 1 Axes>"
      ]
     },
     "metadata": {
      "needs_background": "light"
     },
     "output_type": "display_data"
    },
    {
     "data": {
      "text/plain": [
       "<Figure size 432x288 with 0 Axes>"
      ]
     },
     "metadata": {},
     "output_type": "display_data"
    }
   ],
   "source": [
    "ax = sns.kdeplot(data=injured_syn ['PlayerGamePlay'], label='Synthetic', shade=True)\n",
    "ax = sns.kdeplot(data=injured_nat['PlayerGamePlay'], label='Natural', shade=True)\n",
    "ax = plt.title(\"Distribution of the Number of Plays Until Injury on Synthetic and Natural Turf\")\n",
    "ax = plt.xlabel('Number of Plays')\n",
    "ax = plt.ylabel('Density')\n",
    "ax= plt.legend()\n",
    "ttest = stats.ttest_ind(injured_syn['PlayerGamePlay'], injured_nat['PlayerGamePlay'], equal_var = False)\n",
    "if ttest.pvalue < .05:\n",
    "    print('The difference in the number of plays until injury on synthetic and natural turf is statistically significant.')\n",
    "else:\n",
    "    print('The difference in the number of plays until injury on synthetic and natural turf is not statistically significant.')\n",
    "print('p-value:', '%f' % ttest.pvalue)\n",
    "fig1 = plt.gcf()\n",
    "plt.show()\n",
    "plt.draw()\n",
    "fig1.savefig('graphs/Distribution of the Number of Plays Until Injury.png', dpi=100, transparent=False, facecolor='white')"
   ]
  },
  {
   "cell_type": "code",
   "execution_count": 17,
   "id": "19bd0372-de4c-41b7-819f-ccc71445e070",
   "metadata": {},
   "outputs": [
    {
     "data": {
      "image/png": "[encoded data removed]",
      "text/plain": [
       "<Figure size 864x576 with 1 Axes>"
      ]
     },
     "metadata": {
      "needs_background": "light"
     },
     "output_type": "display_data"
    },
    {
     "data": {
      "text/plain": [
       "<Figure size 432x288 with 0 Axes>"
      ]
     },
     "metadata": {},
     "output_type": "display_data"
    }
   ],
   "source": [
    "# Subset the injured dataset by surface\n",
    "synthetic = injured.query(\"Surface == 'Synthetic'\")\n",
    "natural = injured.query(\"Surface == 'Natural'\")\n",
    "\n",
    "# Set up the figure\n",
    "f, ax = plt.subplots(figsize=(12, 8))\n",
    "ax.set_aspect(\"equal\")\n",
    "\n",
    "# Draw the two density plots\n",
    "ax = sns.kdeplot(synthetic.x, synthetic.y,\n",
    "                 cmap=\"Reds\", shade=True, shade_lowest=False)\n",
    "ax = sns.kdeplot(natural.x, natural.y,\n",
    "                 cmap=\"Blues\", shade=True, shade_lowest=False)\n",
    "\n",
    "# Add labels to the plot\n",
    "red = sns.color_palette(\"Reds\")[-2]\n",
    "blue = sns.color_palette(\"Blues\")[-2]\n",
    "ax.text(2.5, 8.2, \"natural\", size=16, color=blue)\n",
    "ax.text(2.5, 37, \"synthetic\", size=16, color=red)\n",
    "ax = plt.title(\"Location of Injuries on Synthetic and Natural Turf\")\n",
    "fig1 = plt.gcf()\n",
    "plt.show()\n",
    "plt.draw()\n",
    "fig1.savefig('graphs/Location of Injuries on Synthetic and Natural Turf.png', dpi=130, transparent=False, facecolor='white')"
   ]
  },
  {
   "cell_type": "code",
   "execution_count": null,
   "id": "57c131d5-2e0e-4f8f-ba56-7c6d4e0dd0ff",
   "metadata": {},
   "outputs": [],
   "source": [
    "ax = sns.kdeplot(synthetic.x, synthetic.y,\n",
    "                 cmap=\"Reds\", shade=True, shade_lowest=False)\n",
    "\n",
    "# Add labels to the plot\n",
    "red = sns.color_palette(\"Reds\")[-2]\n",
    "ax.text(2.5, 37, \"synthetic\", size=16, color=red)\n",
    "ax = plt.title(\"Location of Injuries on Synthetic and Natural Turf\")\n",
    "fig1 = plt.gcf()\n",
    "plt.show()\n",
    "plt.draw()\n",
    "fig1.savefig('graphs/Location of Injuries on Synthetic and Natural Turf.png', dpi=130, transparent=False, facecolor='white')"
   ]
  },
  {
   "cell_type": "code",
   "execution_count": 47,
   "id": "5af6a5bc-d52f-444f-ae69-b9ac75767092",
   "metadata": {},
   "outputs": [
    {
     "data": {
      "image/png": "[encoded data removed]",
      "text/plain": [
       "<Figure size 432x288 with 1 Axes>"
      ]
     },
     "metadata": {
      "needs_background": "light"
     },
     "output_type": "display_data"
    },
    {
     "data": {
      "text/plain": [
       "<Figure size 432x288 with 0 Axes>"
      ]
     },
     "metadata": {},
     "output_type": "display_data"
    }
   ],
   "source": [
    "ax = sns.kdeplot(natural.x, natural.y,\n",
    "                 cmap=\"Blues\", shade=True, shade_lowest=False)\n",
    "\n",
    "# Add labels to the plot\n",
    "\n",
    "blue = sns.color_palette(\"Blues\")[-2]\n",
    "ax.text(2.5, 8.2, \"natural\", size=16, color=blue)\n",
    "ax = plt.title(\"Location of Injuries on Synthetic and Natural Turf\")\n",
    "fig1 = plt.gcf()\n",
    "plt.show()\n",
    "plt.draw()\n",
    "fig1.savefig('graphs/Location of Injuries on Natural Turf.png', dpi=130, transparent=False, facecolor='white')"
   ]
  },
  {
   "cell_type": "code",
   "execution_count": 27,
   "id": "9c12f95a-01bd-4589-940f-9ac5f41baeee",
   "metadata": {},
   "outputs": [
    {
     "data": {
      "application/vnd.plotly.v1+json": {
       "config": {
        "plotlyServerURL": "https://plot.ly"
       },
       "data": [
        {
         "autocontour": true,
         "contours": {
          "coloring": "none",
          "end": 14,
          "size": 2,
          "start": 2
         },
         "hovertemplate": "BodyPart=Knee<br>x=%{x}<br>y=%{y}<br>count=%{z}<extra></extra>",
         "legendgroup": "Knee",
         "line": {
          "color": "#636efa"
         },
         "name": "Knee",
         "showlegend": true,
         "type": "histogram2dcontour",
         "x": [
          61.71,
          94.22,
          21.62,
          22.42,
          26.08,
          26.05,
          39.85,
          39.73,
          34.94,
          35.56,
          51.35,
          51.22,
          50.67,
          50.17,
          50.06,
          48.96,
          47.25,
          44.74,
          47.02,
          24.57,
          20.24,
          59.48,
          58.83,
          40.31,
          44.96,
          52.36,
          73.74,
          83.09,
          90.29,
          79.32,
          80.02,
          79.43,
          69.33,
          31.58,
          44.08,
          43.48,
          38.79,
          40.47,
          40,
          39.83,
          39.63,
          28,
          27.33,
          18.1,
          15.4,
          9.5,
          96.46,
          96.48,
          90.88,
          84.14,
          78.02,
          61.44,
          60.67,
          39.53,
          39.63,
          39.62,
          36.49,
          78.42,
          86.86,
          87.23,
          87.48,
          87.79,
          89.25,
          90.03,
          53.6,
          86.86,
          87.35,
          52.95,
          35.48,
          37.44,
          38.2,
          59.37,
          56.36,
          55.86,
          50.61,
          49.18,
          41.96,
          65.04,
          68.92,
          69.07,
          60.19,
          60.25,
          58.86,
          58.55,
          57.54,
          55,
          54.65,
          54.61,
          54.04,
          65.08,
          65.04,
          65.1,
          106.84,
          105.52,
          105.37,
          100.99
         ],
         "xaxis": "x",
         "xbingroup": "x",
         "y": [
          25.63,
          28.69,
          13.96,
          13.62,
          15.46,
          15.36,
          31.63,
          31.71,
          28.77,
          28.47,
          30.41,
          30.44,
          30.49,
          30.53,
          30.61,
          30.89,
          34,
          33.41,
          37.32,
          34.2,
          33.83,
          35.5,
          36.08,
          16.04,
          16.43,
          16.32,
          14.88,
          13.51,
          4.55,
          24.78,
          23.03,
          20.91,
          22.46,
          34.94,
          32.14,
          30.4,
          6.15,
          26.73,
          19.6,
          19.47,
          19.9,
          26.33,
          26.5,
          23.47,
          21.9,
          23.93,
          23.4,
          23.46,
          32.33,
          19.81,
          23.58,
          27.15,
          26.79,
          32.84,
          32.81,
          32.81,
          35.18,
          34.56,
          18.67,
          18.8,
          19.32,
          19.35,
          19.6,
          19.69,
          32.92,
          48.53,
          49.44,
          29.39,
          22.2,
          13.5,
          12.58,
          24.25,
          26.68,
          26.51,
          23.71,
          23.25,
          22.44,
          25.64,
          23.25,
          23.58,
          27.52,
          29.3,
          34.48,
          35.05,
          26.89,
          31.51,
          31.51,
          31.74,
          37.22,
          47.42,
          47.55,
          47.6,
          25.54,
          29.4,
          29.92,
          30.94
         ],
         "yaxis": "y",
         "ybingroup": "y"
        },
        {
         "alignmentgroup": "True",
         "hovertemplate": "BodyPart=Knee<br>x=%{x}<extra></extra>",
         "legendgroup": "Knee",
         "line": {
          "color": "#636efa"
         },
         "marker": {
          "color": "#636efa"
         },
         "name": "Knee",
         "notched": true,
         "offsetgroup": "Knee",
         "showlegend": false,
         "type": "box",
         "x": [
          61.71,
          94.22,
          21.62,
          22.42,
          26.08,
          26.05,
          39.85,
          39.73,
          34.94,
          35.56,
          51.35,
          51.22,
          50.67,
          50.17,
          50.06,
          48.96,
          47.25,
          44.74,
          47.02,
          24.57,
          20.24,
          59.48,
          58.83,
          40.31,
          44.96,
          52.36,
          73.74,
          83.09,
          90.29,
          79.32,
          80.02,
          79.43,
          69.33,
          31.58,
          44.08,
          43.48,
          38.79,
          40.47,
          40,
          39.83,
          39.63,
          28,
          27.33,
          18.1,
          15.4,
          9.5,
          96.46,
          96.48,
          90.88,
          84.14,
          78.02,
          61.44,
          60.67,
          39.53,
          39.63,
          39.62,
          36.49,
          78.42,
          86.86,
          87.23,
          87.48,
          87.79,
          89.25,
          90.03,
          53.6,
          86.86,
          87.35,
          52.95,
          35.48,
          37.44,
          38.2,
          59.37,
          56.36,
          55.86,
          50.61,
          49.18,
          41.96,
          65.04,
          68.92,
          69.07,
          60.19,
          60.25,
          58.86,
          58.55,
          57.54,
          55,
          54.65,
          54.61,
          54.04,
          65.08,
          65.04,
          65.1,
          106.84,
          105.52,
          105.37,
          100.99
         ],
         "xaxis": "x3",
         "yaxis": "y3"
        },
        {
         "alignmentgroup": "True",
         "hovertemplate": "BodyPart=Knee<br>y=%{y}<extra></extra>",
         "legendgroup": "Knee",
         "line": {
          "color": "#636efa"
         },
         "marker": {
          "color": "#636efa"
         },
         "name": "Knee",
         "notched": true,
         "offsetgroup": "Knee",
         "showlegend": false,
         "type": "box",
         "xaxis": "x2",
         "y": [
          25.63,
          28.69,
          13.96,
          13.62,
          15.46,
          15.36,
          31.63,
          31.71,
          28.77,
          28.47,
          30.41,
          30.44,
          30.49,
          30.53,
          30.61,
          30.89,
          34,
          33.41,
          37.32,
          34.2,
          33.83,
          35.5,
          36.08,
          16.04,
          16.43,
          16.32,
          14.88,
          13.51,
          4.55,
          24.78,
          23.03,
          20.91,
          22.46,
          34.94,
          32.14,
          30.4,
          6.15,
          26.73,
          19.6,
          19.47,
          19.9,
          26.33,
          26.5,
          23.47,
          21.9,
          23.93,
          23.4,
          23.46,
          32.33,
          19.81,
          23.58,
          27.15,
          26.79,
          32.84,
          32.81,
          32.81,
          35.18,
          34.56,
          18.67,
          18.8,
          19.32,
          19.35,
          19.6,
          19.69,
          32.92,
          48.53,
          49.44,
          29.39,
          22.2,
          13.5,
          12.58,
          24.25,
          26.68,
          26.51,
          23.71,
          23.25,
          22.44,
          25.64,
          23.25,
          23.58,
          27.52,
          29.3,
          34.48,
          35.05,
          26.89,
          31.51,
          31.51,
          31.74,
          37.22,
          47.42,
          47.55,
          47.6,
          25.54,
          29.4,
          29.92,
          30.94
         ],
         "yaxis": "y2"
        },
        {
         "autocontour": true,
         "contours": {
          "coloring": "none",
          "end": 8,
          "size": 1,
          "start": 1
         },
         "hovertemplate": "BodyPart=Ankle<br>x=%{x}<br>y=%{y}<br>count=%{z}<extra></extra>",
         "legendgroup": "Ankle",
         "line": {
          "color": "#EF553B"
         },
         "name": "Ankle",
         "showlegend": true,
         "type": "histogram2dcontour",
         "x": [
          26.43,
          26.47,
          61.25,
          39.59,
          41.62,
          73.72,
          73.69,
          65.52,
          65.17,
          80.13,
          79.88,
          82.26,
          81.87,
          81.77,
          81.73,
          81.15,
          79.7,
          78.11,
          76.24,
          41.76,
          44.26,
          41.87,
          77.57,
          72.8,
          72.77,
          72.76,
          67.61,
          52.74,
          54.42,
          55.21,
          74.47,
          66.66,
          64.05,
          103.16,
          104.12,
          108.18,
          108.18,
          109.09,
          111,
          114.35,
          102.3,
          60.19,
          60.81,
          61.38,
          62.27,
          62.49,
          61.21,
          60.81,
          60.32,
          60.66,
          63.72,
          33.7,
          79.88,
          79.45,
          79.35,
          88.27,
          88.61,
          88.47,
          90.98,
          91.63,
          93.36,
          105.95,
          103.6,
          57.02,
          56.34,
          56.42,
          56.46,
          56.38,
          56.27,
          56.2,
          56.16,
          56.08,
          22.63,
          22.49,
          22.35,
          23.39,
          23.06,
          16.9,
          10.09,
          10,
          11.86,
          12.48,
          12.75
         ],
         "xaxis": "x",
         "xbingroup": "x",
         "y": [
          30.75,
          30.74,
          19.39,
          24.28,
          31.2,
          18.84,
          18.87,
          28.74,
          30.31,
          23.09,
          23.94,
          9.94,
          8.3,
          0.52,
          0.13,
          -1.94,
          -3.84,
          -5.58,
          -6.34,
          24.42,
          18.49,
          19.29,
          25.64,
          37.93,
          37.95,
          37.99,
          38.74,
          25.85,
          24.79,
          25.22,
          24.04,
          36.12,
          30.2,
          27.36,
          27,
          23.74,
          23.18,
          19.3,
          17.6,
          22.71,
          14.99,
          22.94,
          23.41,
          23.62,
          23.75,
          22.69,
          23.17,
          23.34,
          25.79,
          25.87,
          26.64,
          44.16,
          27.66,
          27.2,
          27.81,
          29.24,
          29.29,
          29.33,
          22.27,
          20.71,
          16.2,
          10.2,
          10.87,
          22.19,
          22.77,
          22.35,
          24.81,
          28.39,
          31.24,
          31,
          30.89,
          30.86,
          33.04,
          32.87,
          28.06,
          28.75,
          23.7,
          9.63,
          17.39,
          17.58,
          17.62,
          18.5,
          18.86
         ],
         "yaxis": "y",
         "ybingroup": "y"
        },
        {
         "alignmentgroup": "True",
         "hovertemplate": "BodyPart=Ankle<br>x=%{x}<extra></extra>",
         "legendgroup": "Ankle",
         "line": {
          "color": "#EF553B"
         },
         "marker": {
          "color": "#EF553B"
         },
         "name": "Ankle",
         "notched": true,
         "offsetgroup": "Ankle",
         "showlegend": false,
         "type": "box",
         "x": [
          26.43,
          26.47,
          61.25,
          39.59,
          41.62,
          73.72,
          73.69,
          65.52,
          65.17,
          80.13,
          79.88,
          82.26,
          81.87,
          81.77,
          81.73,
          81.15,
          79.7,
          78.11,
          76.24,
          41.76,
          44.26,
          41.87,
          77.57,
          72.8,
          72.77,
          72.76,
          67.61,
          52.74,
          54.42,
          55.21,
          74.47,
          66.66,
          64.05,
          103.16,
          104.12,
          108.18,
          108.18,
          109.09,
          111,
          114.35,
          102.3,
          60.19,
          60.81,
          61.38,
          62.27,
          62.49,
          61.21,
          60.81,
          60.32,
          60.66,
          63.72,
          33.7,
          79.88,
          79.45,
          79.35,
          88.27,
          88.61,
          88.47,
          90.98,
          91.63,
          93.36,
          105.95,
          103.6,
          57.02,
          56.34,
          56.42,
          56.46,
          56.38,
          56.27,
          56.2,
          56.16,
          56.08,
          22.63,
          22.49,
          22.35,
          23.39,
          23.06,
          16.9,
          10.09,
          10,
          11.86,
          12.48,
          12.75
         ],
         "xaxis": "x3",
         "yaxis": "y3"
        },
        {
         "alignmentgroup": "True",
         "hovertemplate": "BodyPart=Ankle<br>y=%{y}<extra></extra>",
         "legendgroup": "Ankle",
         "line": {
          "color": "#EF553B"
         },
         "marker": {
          "color": "#EF553B"
         },
         "name": "Ankle",
         "notched": true,
         "offsetgroup": "Ankle",
         "showlegend": false,
         "type": "box",
         "xaxis": "x2",
         "y": [
          30.75,
          30.74,
          19.39,
          24.28,
          31.2,
          18.84,
          18.87,
          28.74,
          30.31,
          23.09,
          23.94,
          9.94,
          8.3,
          0.52,
          0.13,
          -1.94,
          -3.84,
          -5.58,
          -6.34,
          24.42,
          18.49,
          19.29,
          25.64,
          37.93,
          37.95,
          37.99,
          38.74,
          25.85,
          24.79,
          25.22,
          24.04,
          36.12,
          30.2,
          27.36,
          27,
          23.74,
          23.18,
          19.3,
          17.6,
          22.71,
          14.99,
          22.94,
          23.41,
          23.62,
          23.75,
          22.69,
          23.17,
          23.34,
          25.79,
          25.87,
          26.64,
          44.16,
          27.66,
          27.2,
          27.81,
          29.24,
          29.29,
          29.33,
          22.27,
          20.71,
          16.2,
          10.2,
          10.87,
          22.19,
          22.77,
          22.35,
          24.81,
          28.39,
          31.24,
          31,
          30.89,
          30.86,
          33.04,
          32.87,
          28.06,
          28.75,
          23.7,
          9.63,
          17.39,
          17.58,
          17.62,
          18.5,
          18.86
         ],
         "yaxis": "y2"
        },
        {
         "autocontour": true,
         "contours": {
          "coloring": "none",
          "end": 3.5,
          "size": 0.5,
          "start": 0.5
         },
         "hovertemplate": "BodyPart=Foot<br>x=%{x}<br>y=%{y}<br>count=%{z}<extra></extra>",
         "legendgroup": "Foot",
         "line": {
          "color": "#00cc96"
         },
         "name": "Foot",
         "showlegend": true,
         "type": "histogram2dcontour",
         "x": [
          29.19,
          29.28,
          28.73,
          28.15,
          29.59,
          32.6,
          32.4,
          33.4,
          35,
          61.1,
          49.52,
          44.38,
          44.36,
          43.64,
          92.4,
          90.3,
          90.32,
          67.84,
          68.57
         ],
         "xaxis": "x",
         "xbingroup": "x",
         "y": [
          26.54,
          26.61,
          35.37,
          29.14,
          27.72,
          23.57,
          17.8,
          17.73,
          17.57,
          27.53,
          26.63,
          28.52,
          28.55,
          28.34,
          21.34,
          17.19,
          17.54,
          30.53,
          29.65
         ],
         "yaxis": "y",
         "ybingroup": "y"
        },
        {
         "alignmentgroup": "True",
         "hovertemplate": "BodyPart=Foot<br>x=%{x}<extra></extra>",
         "legendgroup": "Foot",
         "line": {
          "color": "#00cc96"
         },
         "marker": {
          "color": "#00cc96"
         },
         "name": "Foot",
         "notched": true,
         "offsetgroup": "Foot",
         "showlegend": false,
         "type": "box",
         "x": [
          29.19,
          29.28,
          28.73,
          28.15,
          29.59,
          32.6,
          32.4,
          33.4,
          35,
          61.1,
          49.52,
          44.38,
          44.36,
          43.64,
          92.4,
          90.3,
          90.32,
          67.84,
          68.57
         ],
         "xaxis": "x3",
         "yaxis": "y3"
        },
        {
         "alignmentgroup": "True",
         "hovertemplate": "BodyPart=Foot<br>y=%{y}<extra></extra>",
         "legendgroup": "Foot",
         "line": {
          "color": "#00cc96"
         },
         "marker": {
          "color": "#00cc96"
         },
         "name": "Foot",
         "notched": true,
         "offsetgroup": "Foot",
         "showlegend": false,
         "type": "box",
         "xaxis": "x2",
         "y": [
          26.54,
          26.61,
          35.37,
          29.14,
          27.72,
          23.57,
          17.8,
          17.73,
          17.57,
          27.53,
          26.63,
          28.52,
          28.55,
          28.34,
          21.34,
          17.19,
          17.54,
          30.53,
          29.65
         ],
         "yaxis": "y2"
        }
       ],
       "layout": {
        "height": 600,
        "legend": {
         "title": {
          "text": "BodyPart"
         },
         "tracegroupgap": 0
        },
        "template": {
         "data": {
          "bar": [
           {
            "error_x": {
             "color": "#2a3f5f"
            },
            "error_y": {
             "color": "#2a3f5f"
            },
            "marker": {
             "line": {
              "color": "#E5ECF6",
              "width": 0.5
             },
             "pattern": {
              "fillmode": "overlay",
              "size": 10,
              "solidity": 0.2
             }
            },
            "type": "bar"
           }
          ],
          "barpolar": [
           {
            "marker": {
             "line": {
              "color": "#E5ECF6",
              "width": 0.5
             },
             "pattern": {
              "fillmode": "overlay",
              "size": 10,
              "solidity": 0.2
             }
            },
            "type": "barpolar"
           }
          ],
          "carpet": [
           {
            "aaxis": {
             "endlinecolor": "#2a3f5f",
             "gridcolor": "white",
             "linecolor": "white",
             "minorgridcolor": "white",
             "startlinecolor": "#2a3f5f"
            },
            "baxis": {
             "endlinecolor": "#2a3f5f",
             "gridcolor": "white",
             "linecolor": "white",
             "minorgridcolor": "white",
             "startlinecolor": "#2a3f5f"
            },
            "type": "carpet"
           }
          ],
          "choropleth": [
           {
            "colorbar": {
             "outlinewidth": 0,
             "ticks": ""
            },
            "type": "choropleth"
           }
          ],
          "contour": [
           {
            "colorbar": {
             "outlinewidth": 0,
             "ticks": ""
            },
            "colorscale": [
             [
              0,
              "#0d0887"
             ],
             [
              0.1111111111111111,
              "#46039f"
             ],
             [
              0.2222222222222222,
              "#7201a8"
             ],
             [
              0.3333333333333333,
              "#9c179e"
             ],
             [
              0.4444444444444444,
              "#bd3786"
             ],
             [
              0.5555555555555556,
              "#d8576b"
             ],
             [
              0.6666666666666666,
              "#ed7953"
             ],
             [
              0.7777777777777778,
              "#fb9f3a"
             ],
             [
              0.8888888888888888,
              "#fdca26"
             ],
             [
              1,
              "#f0f921"
             ]
            ],
            "type": "contour"
           }
          ],
          "contourcarpet": [
           {
            "colorbar": {
             "outlinewidth": 0,
             "ticks": ""
            },
            "type": "contourcarpet"
           }
          ],
          "heatmap": [
           {
            "colorbar": {
             "outlinewidth": 0,
             "ticks": ""
            },
            "colorscale": [
             [
              0,
              "#0d0887"
             ],
             [
              0.1111111111111111,
              "#46039f"
             ],
             [
              0.2222222222222222,
              "#7201a8"
             ],
             [
              0.3333333333333333,
              "#9c179e"
             ],
             [
              0.4444444444444444,
              "#bd3786"
             ],
             [
              0.5555555555555556,
              "#d8576b"
             ],
             [
              0.6666666666666666,
              "#ed7953"
             ],
             [
              0.7777777777777778,
              "#fb9f3a"
             ],
             [
              0.8888888888888888,
              "#fdca26"
             ],
             [
              1,
              "#f0f921"
             ]
            ],
            "type": "heatmap"
           }
          ],
          "heatmapgl": [
           {
            "colorbar": {
             "outlinewidth": 0,
             "ticks": ""
            },
            "colorscale": [
             [
              0,
              "#0d0887"
             ],
             [
              0.1111111111111111,
              "#46039f"
             ],
             [
              0.2222222222222222,
              "#7201a8"
             ],
             [
              0.3333333333333333,
              "#9c179e"
             ],
             [
              0.4444444444444444,
              "#bd3786"
             ],
             [
              0.5555555555555556,
              "#d8576b"
             ],
             [
              0.6666666666666666,
              "#ed7953"
             ],
             [
              0.7777777777777778,
              "#fb9f3a"
             ],
             [
              0.8888888888888888,
              "#fdca26"
             ],
             [
              1,
              "#f0f921"
             ]
            ],
            "type": "heatmapgl"
           }
          ],
          "histogram": [
           {
            "marker": {
             "pattern": {
              "fillmode": "overlay",
              "size": 10,
              "solidity": 0.2
             }
            },
            "type": "histogram"
           }
          ],
          "histogram2d": [
           {
            "colorbar": {
             "outlinewidth": 0,
             "ticks": ""
            },
            "colorscale": [
             [
              0,
              "#0d0887"
             ],
             [
              0.1111111111111111,
              "#46039f"
             ],
             [
              0.2222222222222222,
              "#7201a8"
             ],
             [
              0.3333333333333333,
              "#9c179e"
             ],
             [
              0.4444444444444444,
              "#bd3786"
             ],
             [
              0.5555555555555556,
              "#d8576b"
             ],
             [
              0.6666666666666666,
              "#ed7953"
             ],
             [
              0.7777777777777778,
              "#fb9f3a"
             ],
             [
              0.8888888888888888,
              "#fdca26"
             ],
             [
              1,
              "#f0f921"
             ]
            ],
            "type": "histogram2d"
           }
          ],
          "histogram2dcontour": [
           {
            "colorbar": {
             "outlinewidth": 0,
             "ticks": ""
            },
            "colorscale": [
             [
              0,
              "#0d0887"
             ],
             [
              0.1111111111111111,
              "#46039f"
             ],
             [
              0.2222222222222222,
              "#7201a8"
             ],
             [
              0.3333333333333333,
              "#9c179e"
             ],
             [
              0.4444444444444444,
              "#bd3786"
             ],
             [
              0.5555555555555556,
              "#d8576b"
             ],
             [
              0.6666666666666666,
              "#ed7953"
             ],
             [
              0.7777777777777778,
              "#fb9f3a"
             ],
             [
              0.8888888888888888,
              "#fdca26"
             ],
             [
              1,
              "#f0f921"
             ]
            ],
            "type": "histogram2dcontour"
           }
          ],
          "mesh3d": [
           {
            "colorbar": {
             "outlinewidth": 0,
             "ticks": ""
            },
            "type": "mesh3d"
           }
          ],
          "parcoords": [
           {
            "line": {
             "colorbar": {
              "outlinewidth": 0,
              "ticks": ""
             }
            },
            "type": "parcoords"
           }
          ],
          "pie": [
           {
            "automargin": true,
            "type": "pie"
           }
          ],
          "scatter": [
           {
            "fillpattern": {
             "fillmode": "overlay",
             "size": 10,
             "solidity": 0.2
            },
            "type": "scatter"
           }
          ],
          "scatter3d": [
           {
            "line": {
             "colorbar": {
              "outlinewidth": 0,
              "ticks": ""
             }
            },
            "marker": {
             "colorbar": {
              "outlinewidth": 0,
              "ticks": ""
             }
            },
            "type": "scatter3d"
           }
          ],
          "scattercarpet": [
           {
            "marker": {
             "colorbar": {
              "outlinewidth": 0,
              "ticks": ""
             }
            },
            "type": "scattercarpet"
           }
          ],
          "scattergeo": [
           {
            "marker": {
             "colorbar": {
              "outlinewidth": 0,
              "ticks": ""
             }
            },
            "type": "scattergeo"
           }
          ],
          "scattergl": [
           {
            "marker": {
             "colorbar": {
              "outlinewidth": 0,
              "ticks": ""
             }
            },
            "type": "scattergl"
           }
          ],
          "scattermapbox": [
           {
            "marker": {
             "colorbar": {
              "outlinewidth": 0,
              "ticks": ""
             }
            },
            "type": "scattermapbox"
           }
          ],
          "scatterpolar": [
           {
            "marker": {
             "colorbar": {
              "outlinewidth": 0,
              "ticks": ""
             }
            },
            "type": "scatterpolar"
           }
          ],
          "scatterpolargl": [
           {
            "marker": {
             "colorbar": {
              "outlinewidth": 0,
              "ticks": ""
             }
            },
            "type": "scatterpolargl"
           }
          ],
          "scatterternary": [
           {
            "marker": {
             "colorbar": {
              "outlinewidth": 0,
              "ticks": ""
             }
            },
            "type": "scatterternary"
           }
          ],
          "surface": [
           {
            "colorbar": {
             "outlinewidth": 0,
             "ticks": ""
            },
            "colorscale": [
             [
              0,
              "#0d0887"
             ],
             [
              0.1111111111111111,
              "#46039f"
             ],
             [
              0.2222222222222222,
              "#7201a8"
             ],
             [
              0.3333333333333333,
              "#9c179e"
             ],
             [
              0.4444444444444444,
              "#bd3786"
             ],
             [
              0.5555555555555556,
              "#d8576b"
             ],
             [
              0.6666666666666666,
              "#ed7953"
             ],
             [
              0.7777777777777778,
              "#fb9f3a"
             ],
             [
              0.8888888888888888,
              "#fdca26"
             ],
             [
              1,
              "#f0f921"
             ]
            ],
            "type": "surface"
           }
          ],
          "table": [
           {
            "cells": {
             "fill": {
              "color": "#EBF0F8"
             },
             "line": {
              "color": "white"
             }
            },
            "header": {
             "fill": {
              "color": "#C8D4E3"
             },
             "line": {
              "color": "white"
             }
            },
            "type": "table"
           }
          ]
         },
         "layout": {
          "annotationdefaults": {
           "arrowcolor": "#2a3f5f",
           "arrowhead": 0,
           "arrowwidth": 1
          },
          "autotypenumbers": "strict",
          "coloraxis": {
           "colorbar": {
            "outlinewidth": 0,
            "ticks": ""
           }
          },
          "colorscale": {
           "diverging": [
            [
             0,
             "#8e0152"
            ],
            [
             0.1,
             "#c51b7d"
            ],
            [
             0.2,
             "#de77ae"
            ],
            [
             0.3,
             "#f1b6da"
            ],
            [
             0.4,
             "#fde0ef"
            ],
            [
             0.5,
             "#f7f7f7"
            ],
            [
             0.6,
             "#e6f5d0"
            ],
            [
             0.7,
             "#b8e186"
            ],
            [
             0.8,
             "#7fbc41"
            ],
            [
             0.9,
             "#4d9221"
            ],
            [
             1,
             "#276419"
            ]
           ],
           "sequential": [
            [
             0,
             "#0d0887"
            ],
            [
             0.1111111111111111,
             "#46039f"
            ],
            [
             0.2222222222222222,
             "#7201a8"
            ],
            [
             0.3333333333333333,
             "#9c179e"
            ],
            [
             0.4444444444444444,
             "#bd3786"
            ],
            [
             0.5555555555555556,
             "#d8576b"
            ],
            [
             0.6666666666666666,
             "#ed7953"
            ],
            [
             0.7777777777777778,
             "#fb9f3a"
            ],
            [
             0.8888888888888888,
             "#fdca26"
            ],
            [
             1,
             "#f0f921"
            ]
           ],
           "sequentialminus": [
            [
             0,
             "#0d0887"
            ],
            [
             0.1111111111111111,
             "#46039f"
            ],
            [
             0.2222222222222222,
             "#7201a8"
            ],
            [
             0.3333333333333333,
             "#9c179e"
            ],
            [
             0.4444444444444444,
             "#bd3786"
            ],
            [
             0.5555555555555556,
             "#d8576b"
            ],
            [
             0.6666666666666666,
             "#ed7953"
            ],
            [
             0.7777777777777778,
             "#fb9f3a"
            ],
            [
             0.8888888888888888,
             "#fdca26"
            ],
            [
             1,
             "#f0f921"
            ]
           ]
          },
          "colorway": [
           "#636efa",
           "#EF553B",
           "#00cc96",
           "#ab63fa",
           "#FFA15A",
           "#19d3f3",
           "#FF6692",
           "#B6E880",
           "#FF97FF",
           "#FECB52"
          ],
          "font": {
           "color": "#2a3f5f"
          },
          "geo": {
           "bgcolor": "white",
           "lakecolor": "white",
           "landcolor": "#E5ECF6",
           "showlakes": true,
           "showland": true,
           "subunitcolor": "white"
          },
          "hoverlabel": {
           "align": "left"
          },
          "hovermode": "closest",
          "mapbox": {
           "style": "light"
          },
          "paper_bgcolor": "white",
          "plot_bgcolor": "#E5ECF6",
          "polar": {
           "angularaxis": {
            "gridcolor": "white",
            "linecolor": "white",
            "ticks": ""
           },
           "bgcolor": "#E5ECF6",
           "radialaxis": {
            "gridcolor": "white",
            "linecolor": "white",
            "ticks": ""
           }
          },
          "scene": {
           "xaxis": {
            "backgroundcolor": "#E5ECF6",
            "gridcolor": "white",
            "gridwidth": 2,
            "linecolor": "white",
            "showbackground": true,
            "ticks": "",
            "zerolinecolor": "white"
           },
           "yaxis": {
            "backgroundcolor": "#E5ECF6",
            "gridcolor": "white",
            "gridwidth": 2,
            "linecolor": "white",
            "showbackground": true,
            "ticks": "",
            "zerolinecolor": "white"
           },
           "zaxis": {
            "backgroundcolor": "#E5ECF6",
            "gridcolor": "white",
            "gridwidth": 2,
            "linecolor": "white",
            "showbackground": true,
            "ticks": "",
            "zerolinecolor": "white"
           }
          },
          "shapedefaults": {
           "line": {
            "color": "#2a3f5f"
           }
          },
          "ternary": {
           "aaxis": {
            "gridcolor": "white",
            "linecolor": "white",
            "ticks": ""
           },
           "baxis": {
            "gridcolor": "white",
            "linecolor": "white",
            "ticks": ""
           },
           "bgcolor": "#E5ECF6",
           "caxis": {
            "gridcolor": "white",
            "linecolor": "white",
            "ticks": ""
           }
          },
          "title": {
           "x": 0.05
          },
          "xaxis": {
           "automargin": true,
           "gridcolor": "white",
           "linecolor": "white",
           "ticks": "",
           "title": {
            "standoff": 15
           },
           "zerolinecolor": "white",
           "zerolinewidth": 2
          },
          "yaxis": {
           "automargin": true,
           "gridcolor": "white",
           "linecolor": "white",
           "ticks": "",
           "title": {
            "standoff": 15
           },
           "zerolinecolor": "white",
           "zerolinewidth": 2
          }
         }
        },
        "title": {
         "text": "Injury distribution on natural surface"
        },
        "width": 800,
        "xaxis": {
         "anchor": "y",
         "autorange": true,
         "domain": [
          0,
          0.7363
         ],
         "range": [
          -10,
          130
         ],
         "title": {
          "text": "x"
         },
         "type": "linear"
        },
        "xaxis2": {
         "anchor": "y2",
         "autorange": true,
         "domain": [
          0.7413,
          1
         ],
         "matches": "x2",
         "range": [
          -0.5,
          2.5
         ],
         "showgrid": false,
         "showline": false,
         "showticklabels": false,
         "ticks": "",
         "type": "category"
        },
        "xaxis3": {
         "anchor": "y3",
         "autorange": true,
         "domain": [
          0,
          0.7363
         ],
         "matches": "x",
         "range": [
          -10,
          130
         ],
         "showgrid": true,
         "showticklabels": false,
         "type": "linear"
        },
        "xaxis4": {
         "anchor": "y4",
         "domain": [
          0.7413,
          1
         ],
         "matches": "x2",
         "showgrid": false,
         "showline": false,
         "showticklabels": false,
         "ticks": ""
        },
        "yaxis": {
         "anchor": "x",
         "autorange": true,
         "domain": [
          0,
          0.7326
         ],
         "range": [
          -12.5,
          52.699999999999996
         ],
         "title": {
          "text": "y"
         },
         "type": "linear"
        },
        "yaxis2": {
         "anchor": "x2",
         "autorange": true,
         "domain": [
          0,
          0.7326
         ],
         "matches": "y",
         "range": [
          -12.5,
          52.699999999999996
         ],
         "showgrid": true,
         "showticklabels": false,
         "type": "linear"
        },
        "yaxis3": {
         "anchor": "x3",
         "autorange": true,
         "domain": [
          0.7426,
          1
         ],
         "matches": "y3",
         "range": [
          -0.5,
          2.5
         ],
         "showgrid": false,
         "showline": false,
         "showticklabels": false,
         "ticks": "",
         "type": "category"
        },
        "yaxis4": {
         "anchor": "x4",
         "domain": [
          0.7426,
          1
         ],
         "matches": "y3",
         "showgrid": true,
         "showline": false,
         "showticklabels": false,
         "ticks": ""
        }
       }
      },
      "image/png": "[encoded data removed]",
      "text/html": [
       "<div>                            <div id=\"0d082cc7-10b0-4d7c-bc60-2f2655f353c3\" class=\"plotly-graph-div\" style=\"height:600px; width:800px;\"></div>            <script type=\"text/javascript\">                require([\"plotly\"], function(Plotly) {                    window.PLOTLYENV=window.PLOTLYENV || {};                                    if (document.getElementById(\"0d082cc7-10b0-4d7c-bc60-2f2655f353c3\")) {                    Plotly.newPlot(                        \"0d082cc7-10b0-4d7c-bc60-2f2655f353c3\",                        [{\"contours\":{\"coloring\":\"none\"},\"hovertemplate\":\"BodyPart=Knee<br>x=%{x}<br>y=%{y}<br>count=%{z}<extra></extra>\",\"legendgroup\":\"Knee\",\"line\":{\"color\":\"#636efa\"},\"name\":\"Knee\",\"showlegend\":true,\"x\":[61.71,94.22,21.62,22.42,26.08,26.05,39.85,39.73,34.94,35.56,51.35,51.22,50.67,50.17,50.06,48.96,47.25,44.74,47.02,24.57,20.24,59.48,58.83,40.31,44.96,52.36,73.74,83.09,90.29,79.32,80.02,79.43,69.33,31.58,44.08,43.48,38.79,40.47,40.0,39.83,39.63,28.0,27.33,18.1,15.4,9.5,96.46,96.48,90.88,84.14,78.02,61.44,60.67,39.53,39.63,39.62,36.49,78.42,86.86,87.23,87.48,87.79,89.25,90.03,53.6,86.86,87.35,52.95,35.48,37.44,38.2,59.37,56.36,55.86,50.61,49.18,41.96,65.04,68.92,69.07,60.19,60.25,58.86,58.55,57.54,55.0,54.65,54.61,54.04,65.08,65.04,65.1,106.84,105.52,105.37,100.99],\"xaxis\":\"x\",\"xbingroup\":\"x\",\"y\":[25.63,28.69,13.96,13.62,15.46,15.36,31.63,31.71,28.77,28.47,30.41,30.44,30.49,30.53,30.61,30.89,34.0,33.41,37.32,34.2,33.83,35.5,36.08,16.04,16.43,16.32,14.88,13.51,4.55,24.78,23.03,20.91,22.46,34.94,32.14,30.4,6.15,26.73,19.6,19.47,19.9,26.33,26.5,23.47,21.9,23.93,23.4,23.46,32.33,19.81,23.58,27.15,26.79,32.84,32.81,32.81,35.18,34.56,18.67,18.8,19.32,19.35,19.6,19.69,32.92,48.53,49.44,29.39,22.2,13.5,12.58,24.25,26.68,26.51,23.71,23.25,22.44,25.64,23.25,23.58,27.52,29.3,34.48,35.05,26.89,31.51,31.51,31.74,37.22,47.42,47.55,47.6,25.54,29.4,29.92,30.94],\"yaxis\":\"y\",\"ybingroup\":\"y\",\"type\":\"histogram2dcontour\"},{\"alignmentgroup\":\"True\",\"hovertemplate\":\"BodyPart=Knee<br>x=%{x}<extra></extra>\",\"legendgroup\":\"Knee\",\"line\":{\"color\":\"#636efa\"},\"marker\":{\"color\":\"#636efa\"},\"name\":\"Knee\",\"notched\":true,\"offsetgroup\":\"Knee\",\"showlegend\":false,\"x\":[61.71,94.22,21.62,22.42,26.08,26.05,39.85,39.73,34.94,35.56,51.35,51.22,50.67,50.17,50.06,48.96,47.25,44.74,47.02,24.57,20.24,59.48,58.83,40.31,44.96,52.36,73.74,83.09,90.29,79.32,80.02,79.43,69.33,31.58,44.08,43.48,38.79,40.47,40.0,39.83,39.63,28.0,27.33,18.1,15.4,9.5,96.46,96.48,90.88,84.14,78.02,61.44,60.67,39.53,39.63,39.62,36.49,78.42,86.86,87.23,87.48,87.79,89.25,90.03,53.6,86.86,87.35,52.95,35.48,37.44,38.2,59.37,56.36,55.86,50.61,49.18,41.96,65.04,68.92,69.07,60.19,60.25,58.86,58.55,57.54,55.0,54.65,54.61,54.04,65.08,65.04,65.1,106.84,105.52,105.37,100.99],\"xaxis\":\"x3\",\"yaxis\":\"y3\",\"type\":\"box\"},{\"alignmentgroup\":\"True\",\"hovertemplate\":\"BodyPart=Knee<br>y=%{y}<extra></extra>\",\"legendgroup\":\"Knee\",\"line\":{\"color\":\"#636efa\"},\"marker\":{\"color\":\"#636efa\"},\"name\":\"Knee\",\"notched\":true,\"offsetgroup\":\"Knee\",\"showlegend\":false,\"xaxis\":\"x2\",\"y\":[25.63,28.69,13.96,13.62,15.46,15.36,31.63,31.71,28.77,28.47,30.41,30.44,30.49,30.53,30.61,30.89,34.0,33.41,37.32,34.2,33.83,35.5,36.08,16.04,16.43,16.32,14.88,13.51,4.55,24.78,23.03,20.91,22.46,34.94,32.14,30.4,6.15,26.73,19.6,19.47,19.9,26.33,26.5,23.47,21.9,23.93,23.4,23.46,32.33,19.81,23.58,27.15,26.79,32.84,32.81,32.81,35.18,34.56,18.67,18.8,19.32,19.35,19.6,19.69,32.92,48.53,49.44,29.39,22.2,13.5,12.58,24.25,26.68,26.51,23.71,23.25,22.44,25.64,23.25,23.58,27.52,29.3,34.48,35.05,26.89,31.51,31.51,31.74,37.22,47.42,47.55,47.6,25.54,29.4,29.92,30.94],\"yaxis\":\"y2\",\"type\":\"box\"},{\"contours\":{\"coloring\":\"none\"},\"hovertemplate\":\"BodyPart=Ankle<br>x=%{x}<br>y=%{y}<br>count=%{z}<extra></extra>\",\"legendgroup\":\"Ankle\",\"line\":{\"color\":\"#EF553B\"},\"name\":\"Ankle\",\"showlegend\":true,\"x\":[26.43,26.47,61.25,39.59,41.62,73.72,73.69,65.52,65.17,80.13,79.88,82.26,81.87,81.77,81.73,81.15,79.7,78.11,76.24,41.76,44.26,41.87,77.57,72.8,72.77,72.76,67.61,52.74,54.42,55.21,74.47,66.66,64.05,103.16,104.12,108.18,108.18,109.09,111.0,114.35,102.3,60.19,60.81,61.38,62.27,62.49,61.21,60.81,60.32,60.66,63.72,33.7,79.88,79.45,79.35,88.27,88.61,88.47,90.98,91.63,93.36,105.95,103.6,57.02,56.34,56.42,56.46,56.38,56.27,56.2,56.16,56.08,22.63,22.49,22.35,23.39,23.06,16.9,10.09,10.0,11.86,12.48,12.75],\"xaxis\":\"x\",\"xbingroup\":\"x\",\"y\":[30.75,30.74,19.39,24.28,31.2,18.84,18.87,28.74,30.31,23.09,23.94,9.94,8.3,0.52,0.13,-1.94,-3.84,-5.58,-6.34,24.42,18.49,19.29,25.64,37.93,37.95,37.99,38.74,25.85,24.79,25.22,24.04,36.12,30.2,27.36,27.0,23.74,23.18,19.3,17.6,22.71,14.99,22.94,23.41,23.62,23.75,22.69,23.17,23.34,25.79,25.87,26.64,44.16,27.66,27.2,27.81,29.24,29.29,29.33,22.27,20.71,16.2,10.2,10.87,22.19,22.77,22.35,24.81,28.39,31.24,31.0,30.89,30.86,33.04,32.87,28.06,28.75,23.7,9.63,17.39,17.58,17.62,18.5,18.86],\"yaxis\":\"y\",\"ybingroup\":\"y\",\"type\":\"histogram2dcontour\"},{\"alignmentgroup\":\"True\",\"hovertemplate\":\"BodyPart=Ankle<br>x=%{x}<extra></extra>\",\"legendgroup\":\"Ankle\",\"line\":{\"color\":\"#EF553B\"},\"marker\":{\"color\":\"#EF553B\"},\"name\":\"Ankle\",\"notched\":true,\"offsetgroup\":\"Ankle\",\"showlegend\":false,\"x\":[26.43,26.47,61.25,39.59,41.62,73.72,73.69,65.52,65.17,80.13,79.88,82.26,81.87,81.77,81.73,81.15,79.7,78.11,76.24,41.76,44.26,41.87,77.57,72.8,72.77,72.76,67.61,52.74,54.42,55.21,74.47,66.66,64.05,103.16,104.12,108.18,108.18,109.09,111.0,114.35,102.3,60.19,60.81,61.38,62.27,62.49,61.21,60.81,60.32,60.66,63.72,33.7,79.88,79.45,79.35,88.27,88.61,88.47,90.98,91.63,93.36,105.95,103.6,57.02,56.34,56.42,56.46,56.38,56.27,56.2,56.16,56.08,22.63,22.49,22.35,23.39,23.06,16.9,10.09,10.0,11.86,12.48,12.75],\"xaxis\":\"x3\",\"yaxis\":\"y3\",\"type\":\"box\"},{\"alignmentgroup\":\"True\",\"hovertemplate\":\"BodyPart=Ankle<br>y=%{y}<extra></extra>\",\"legendgroup\":\"Ankle\",\"line\":{\"color\":\"#EF553B\"},\"marker\":{\"color\":\"#EF553B\"},\"name\":\"Ankle\",\"notched\":true,\"offsetgroup\":\"Ankle\",\"showlegend\":false,\"xaxis\":\"x2\",\"y\":[30.75,30.74,19.39,24.28,31.2,18.84,18.87,28.74,30.31,23.09,23.94,9.94,8.3,0.52,0.13,-1.94,-3.84,-5.58,-6.34,24.42,18.49,19.29,25.64,37.93,37.95,37.99,38.74,25.85,24.79,25.22,24.04,36.12,30.2,27.36,27.0,23.74,23.18,19.3,17.6,22.71,14.99,22.94,23.41,23.62,23.75,22.69,23.17,23.34,25.79,25.87,26.64,44.16,27.66,27.2,27.81,29.24,29.29,29.33,22.27,20.71,16.2,10.2,10.87,22.19,22.77,22.35,24.81,28.39,31.24,31.0,30.89,30.86,33.04,32.87,28.06,28.75,23.7,9.63,17.39,17.58,17.62,18.5,18.86],\"yaxis\":\"y2\",\"type\":\"box\"},{\"contours\":{\"coloring\":\"none\"},\"hovertemplate\":\"BodyPart=Foot<br>x=%{x}<br>y=%{y}<br>count=%{z}<extra></extra>\",\"legendgroup\":\"Foot\",\"line\":{\"color\":\"#00cc96\"},\"name\":\"Foot\",\"showlegend\":true,\"x\":[29.19,29.28,28.73,28.15,29.59,32.6,32.4,33.4,35.0,61.1,49.52,44.38,44.36,43.64,92.4,90.3,90.32,67.84,68.57],\"xaxis\":\"x\",\"xbingroup\":\"x\",\"y\":[26.54,26.61,35.37,29.14,27.72,23.57,17.8,17.73,17.57,27.53,26.63,28.52,28.55,28.34,21.34,17.19,17.54,30.53,29.65],\"yaxis\":\"y\",\"ybingroup\":\"y\",\"type\":\"histogram2dcontour\"},{\"alignmentgroup\":\"True\",\"hovertemplate\":\"BodyPart=Foot<br>x=%{x}<extra></extra>\",\"legendgroup\":\"Foot\",\"line\":{\"color\":\"#00cc96\"},\"marker\":{\"color\":\"#00cc96\"},\"name\":\"Foot\",\"notched\":true,\"offsetgroup\":\"Foot\",\"showlegend\":false,\"x\":[29.19,29.28,28.73,28.15,29.59,32.6,32.4,33.4,35.0,61.1,49.52,44.38,44.36,43.64,92.4,90.3,90.32,67.84,68.57],\"xaxis\":\"x3\",\"yaxis\":\"y3\",\"type\":\"box\"},{\"alignmentgroup\":\"True\",\"hovertemplate\":\"BodyPart=Foot<br>y=%{y}<extra></extra>\",\"legendgroup\":\"Foot\",\"line\":{\"color\":\"#00cc96\"},\"marker\":{\"color\":\"#00cc96\"},\"name\":\"Foot\",\"notched\":true,\"offsetgroup\":\"Foot\",\"showlegend\":false,\"xaxis\":\"x2\",\"y\":[26.54,26.61,35.37,29.14,27.72,23.57,17.8,17.73,17.57,27.53,26.63,28.52,28.55,28.34,21.34,17.19,17.54,30.53,29.65],\"yaxis\":\"y2\",\"type\":\"box\"}],                        {\"template\":{\"data\":{\"histogram2dcontour\":[{\"type\":\"histogram2dcontour\",\"colorbar\":{\"outlinewidth\":0,\"ticks\":\"\"},\"colorscale\":[[0.0,\"#0d0887\"],[0.1111111111111111,\"#46039f\"],[0.2222222222222222,\"#7201a8\"],[0.3333333333333333,\"#9c179e\"],[0.4444444444444444,\"#bd3786\"],[0.5555555555555556,\"#d8576b\"],[0.6666666666666666,\"#ed7953\"],[0.7777777777777778,\"#fb9f3a\"],[0.8888888888888888,\"#fdca26\"],[1.0,\"#f0f921\"]]}],\"choropleth\":[{\"type\":\"choropleth\",\"colorbar\":{\"outlinewidth\":0,\"ticks\":\"\"}}],\"histogram2d\":[{\"type\":\"histogram2d\",\"colorbar\":{\"outlinewidth\":0,\"ticks\":\"\"},\"colorscale\":[[0.0,\"#0d0887\"],[0.1111111111111111,\"#46039f\"],[0.2222222222222222,\"#7201a8\"],[0.3333333333333333,\"#9c179e\"],[0.4444444444444444,\"#bd3786\"],[0.5555555555555556,\"#d8576b\"],[0.6666666666666666,\"#ed7953\"],[0.7777777777777778,\"#fb9f3a\"],[0.8888888888888888,\"#fdca26\"],[1.0,\"#f0f921\"]]}],\"heatmap\":[{\"type\":\"heatmap\",\"colorbar\":{\"outlinewidth\":0,\"ticks\":\"\"},\"colorscale\":[[0.0,\"#0d0887\"],[0.1111111111111111,\"#46039f\"],[0.2222222222222222,\"#7201a8\"],[0.3333333333333333,\"#9c179e\"],[0.4444444444444444,\"#bd3786\"],[0.5555555555555556,\"#d8576b\"],[0.6666666666666666,\"#ed7953\"],[0.7777777777777778,\"#fb9f3a\"],[0.8888888888888888,\"#fdca26\"],[1.0,\"#f0f921\"]]}],\"heatmapgl\":[{\"type\":\"heatmapgl\",\"colorbar\":{\"outlinewidth\":0,\"ticks\":\"\"},\"colorscale\":[[0.0,\"#0d0887\"],[0.1111111111111111,\"#46039f\"],[0.2222222222222222,\"#7201a8\"],[0.3333333333333333,\"#9c179e\"],[0.4444444444444444,\"#bd3786\"],[0.5555555555555556,\"#d8576b\"],[0.6666666666666666,\"#ed7953\"],[0.7777777777777778,\"#fb9f3a\"],[0.8888888888888888,\"#fdca26\"],[1.0,\"#f0f921\"]]}],\"contourcarpet\":[{\"type\":\"contourcarpet\",\"colorbar\":{\"outlinewidth\":0,\"ticks\":\"\"}}],\"contour\":[{\"type\":\"contour\",\"colorbar\":{\"outlinewidth\":0,\"ticks\":\"\"},\"colorscale\":[[0.0,\"#0d0887\"],[0.1111111111111111,\"#46039f\"],[0.2222222222222222,\"#7201a8\"],[0.3333333333333333,\"#9c179e\"],[0.4444444444444444,\"#bd3786\"],[0.5555555555555556,\"#d8576b\"],[0.6666666666666666,\"#ed7953\"],[0.7777777777777778,\"#fb9f3a\"],[0.8888888888888888,\"#fdca26\"],[1.0,\"#f0f921\"]]}],\"surface\":[{\"type\":\"surface\",\"colorbar\":{\"outlinewidth\":0,\"ticks\":\"\"},\"colorscale\":[[0.0,\"#0d0887\"],[0.1111111111111111,\"#46039f\"],[0.2222222222222222,\"#7201a8\"],[0.3333333333333333,\"#9c179e\"],[0.4444444444444444,\"#bd3786\"],[0.5555555555555556,\"#d8576b\"],[0.6666666666666666,\"#ed7953\"],[0.7777777777777778,\"#fb9f3a\"],[0.8888888888888888,\"#fdca26\"],[1.0,\"#f0f921\"]]}],\"mesh3d\":[{\"type\":\"mesh3d\",\"colorbar\":{\"outlinewidth\":0,\"ticks\":\"\"}}],\"scatter\":[{\"fillpattern\":{\"fillmode\":\"overlay\",\"size\":10,\"solidity\":0.2},\"type\":\"scatter\"}],\"parcoords\":[{\"type\":\"parcoords\",\"line\":{\"colorbar\":{\"outlinewidth\":0,\"ticks\":\"\"}}}],\"scatterpolargl\":[{\"type\":\"scatterpolargl\",\"marker\":{\"colorbar\":{\"outlinewidth\":0,\"ticks\":\"\"}}}],\"bar\":[{\"error_x\":{\"color\":\"#2a3f5f\"},\"error_y\":{\"color\":\"#2a3f5f\"},\"marker\":{\"line\":{\"color\":\"#E5ECF6\",\"width\":0.5},\"pattern\":{\"fillmode\":\"overlay\",\"size\":10,\"solidity\":0.2}},\"type\":\"bar\"}],\"scattergeo\":[{\"type\":\"scattergeo\",\"marker\":{\"colorbar\":{\"outlinewidth\":0,\"ticks\":\"\"}}}],\"scatterpolar\":[{\"type\":\"scatterpolar\",\"marker\":{\"colorbar\":{\"outlinewidth\":0,\"ticks\":\"\"}}}],\"histogram\":[{\"marker\":{\"pattern\":{\"fillmode\":\"overlay\",\"size\":10,\"solidity\":0.2}},\"type\":\"histogram\"}],\"scattergl\":[{\"type\":\"scattergl\",\"marker\":{\"colorbar\":{\"outlinewidth\":0,\"ticks\":\"\"}}}],\"scatter3d\":[{\"type\":\"scatter3d\",\"line\":{\"colorbar\":{\"outlinewidth\":0,\"ticks\":\"\"}},\"marker\":{\"colorbar\":{\"outlinewidth\":0,\"ticks\":\"\"}}}],\"scattermapbox\":[{\"type\":\"scattermapbox\",\"marker\":{\"colorbar\":{\"outlinewidth\":0,\"ticks\":\"\"}}}],\"scatterternary\":[{\"type\":\"scatterternary\",\"marker\":{\"colorbar\":{\"outlinewidth\":0,\"ticks\":\"\"}}}],\"scattercarpet\":[{\"type\":\"scattercarpet\",\"marker\":{\"colorbar\":{\"outlinewidth\":0,\"ticks\":\"\"}}}],\"carpet\":[{\"aaxis\":{\"endlinecolor\":\"#2a3f5f\",\"gridcolor\":\"white\",\"linecolor\":\"white\",\"minorgridcolor\":\"white\",\"startlinecolor\":\"#2a3f5f\"},\"baxis\":{\"endlinecolor\":\"#2a3f5f\",\"gridcolor\":\"white\",\"linecolor\":\"white\",\"minorgridcolor\":\"white\",\"startlinecolor\":\"#2a3f5f\"},\"type\":\"carpet\"}],\"table\":[{\"cells\":{\"fill\":{\"color\":\"#EBF0F8\"},\"line\":{\"color\":\"white\"}},\"header\":{\"fill\":{\"color\":\"#C8D4E3\"},\"line\":{\"color\":\"white\"}},\"type\":\"table\"}],\"barpolar\":[{\"marker\":{\"line\":{\"color\":\"#E5ECF6\",\"width\":0.5},\"pattern\":{\"fillmode\":\"overlay\",\"size\":10,\"solidity\":0.2}},\"type\":\"barpolar\"}],\"pie\":[{\"automargin\":true,\"type\":\"pie\"}]},\"layout\":{\"autotypenumbers\":\"strict\",\"colorway\":[\"#636efa\",\"#EF553B\",\"#00cc96\",\"#ab63fa\",\"#FFA15A\",\"#19d3f3\",\"#FF6692\",\"#B6E880\",\"#FF97FF\",\"#FECB52\"],\"font\":{\"color\":\"#2a3f5f\"},\"hovermode\":\"closest\",\"hoverlabel\":{\"align\":\"left\"},\"paper_bgcolor\":\"white\",\"plot_bgcolor\":\"#E5ECF6\",\"polar\":{\"bgcolor\":\"#E5ECF6\",\"angularaxis\":{\"gridcolor\":\"white\",\"linecolor\":\"white\",\"ticks\":\"\"},\"radialaxis\":{\"gridcolor\":\"white\",\"linecolor\":\"white\",\"ticks\":\"\"}},\"ternary\":{\"bgcolor\":\"#E5ECF6\",\"aaxis\":{\"gridcolor\":\"white\",\"linecolor\":\"white\",\"ticks\":\"\"},\"baxis\":{\"gridcolor\":\"white\",\"linecolor\":\"white\",\"ticks\":\"\"},\"caxis\":{\"gridcolor\":\"white\",\"linecolor\":\"white\",\"ticks\":\"\"}},\"coloraxis\":{\"colorbar\":{\"outlinewidth\":0,\"ticks\":\"\"}},\"colorscale\":{\"sequential\":[[0.0,\"#0d0887\"],[0.1111111111111111,\"#46039f\"],[0.2222222222222222,\"#7201a8\"],[0.3333333333333333,\"#9c179e\"],[0.4444444444444444,\"#bd3786\"],[0.5555555555555556,\"#d8576b\"],[0.6666666666666666,\"#ed7953\"],[0.7777777777777778,\"#fb9f3a\"],[0.8888888888888888,\"#fdca26\"],[1.0,\"#f0f921\"]],\"sequentialminus\":[[0.0,\"#0d0887\"],[0.1111111111111111,\"#46039f\"],[0.2222222222222222,\"#7201a8\"],[0.3333333333333333,\"#9c179e\"],[0.4444444444444444,\"#bd3786\"],[0.5555555555555556,\"#d8576b\"],[0.6666666666666666,\"#ed7953\"],[0.7777777777777778,\"#fb9f3a\"],[0.8888888888888888,\"#fdca26\"],[1.0,\"#f0f921\"]],\"diverging\":[[0,\"#8e0152\"],[0.1,\"#c51b7d\"],[0.2,\"#de77ae\"],[0.3,\"#f1b6da\"],[0.4,\"#fde0ef\"],[0.5,\"#f7f7f7\"],[0.6,\"#e6f5d0\"],[0.7,\"#b8e186\"],[0.8,\"#7fbc41\"],[0.9,\"#4d9221\"],[1,\"#276419\"]]},\"xaxis\":{\"gridcolor\":\"white\",\"linecolor\":\"white\",\"ticks\":\"\",\"title\":{\"standoff\":15},\"zerolinecolor\":\"white\",\"automargin\":true,\"zerolinewidth\":2},\"yaxis\":{\"gridcolor\":\"white\",\"linecolor\":\"white\",\"ticks\":\"\",\"title\":{\"standoff\":15},\"zerolinecolor\":\"white\",\"automargin\":true,\"zerolinewidth\":2},\"scene\":{\"xaxis\":{\"backgroundcolor\":\"#E5ECF6\",\"gridcolor\":\"white\",\"linecolor\":\"white\",\"showbackground\":true,\"ticks\":\"\",\"zerolinecolor\":\"white\",\"gridwidth\":2},\"yaxis\":{\"backgroundcolor\":\"#E5ECF6\",\"gridcolor\":\"white\",\"linecolor\":\"white\",\"showbackground\":true,\"ticks\":\"\",\"zerolinecolor\":\"white\",\"gridwidth\":2},\"zaxis\":{\"backgroundcolor\":\"#E5ECF6\",\"gridcolor\":\"white\",\"linecolor\":\"white\",\"showbackground\":true,\"ticks\":\"\",\"zerolinecolor\":\"white\",\"gridwidth\":2}},\"shapedefaults\":{\"line\":{\"color\":\"#2a3f5f\"}},\"annotationdefaults\":{\"arrowcolor\":\"#2a3f5f\",\"arrowhead\":0,\"arrowwidth\":1},\"geo\":{\"bgcolor\":\"white\",\"landcolor\":\"#E5ECF6\",\"subunitcolor\":\"white\",\"showland\":true,\"showlakes\":true,\"lakecolor\":\"white\"},\"title\":{\"x\":0.05},\"mapbox\":{\"style\":\"light\"}}},\"xaxis\":{\"anchor\":\"y\",\"domain\":[0.0,0.7363],\"title\":{\"text\":\"x\"}},\"yaxis\":{\"anchor\":\"x\",\"domain\":[0.0,0.7326],\"title\":{\"text\":\"y\"}},\"xaxis2\":{\"anchor\":\"y2\",\"domain\":[0.7413,1.0],\"matches\":\"x2\",\"showticklabels\":false,\"showline\":false,\"ticks\":\"\",\"showgrid\":false},\"yaxis2\":{\"anchor\":\"x2\",\"domain\":[0.0,0.7326],\"matches\":\"y\",\"showticklabels\":false,\"showgrid\":true},\"xaxis3\":{\"anchor\":\"y3\",\"domain\":[0.0,0.7363],\"matches\":\"x\",\"showticklabels\":false,\"showgrid\":true},\"yaxis3\":{\"anchor\":\"x3\",\"domain\":[0.7426,1.0],\"matches\":\"y3\",\"showticklabels\":false,\"showline\":false,\"ticks\":\"\",\"showgrid\":false},\"xaxis4\":{\"anchor\":\"y4\",\"domain\":[0.7413,1.0],\"matches\":\"x2\",\"showticklabels\":false,\"showgrid\":false,\"showline\":false,\"ticks\":\"\"},\"yaxis4\":{\"anchor\":\"x4\",\"domain\":[0.7426,1.0],\"matches\":\"y3\",\"showticklabels\":false,\"showline\":false,\"ticks\":\"\",\"showgrid\":true},\"legend\":{\"title\":{\"text\":\"BodyPart\"},\"tracegroupgap\":0},\"title\":{\"text\":\"Injury distribution on natural surface\"},\"height\":600,\"width\":800},                        {\"responsive\": true}                    ).then(function(){\n",
       "                            \n",
       "var gd = document.getElementById('0d082cc7-10b0-4d7c-bc60-2f2655f353c3');\n",
       "var x = new MutationObserver(function (mutations, observer) {{\n",
       "        var display = window.getComputedStyle(gd).display;\n",
       "        if (!display || display === 'none') {{\n",
       "            console.log([gd, 'removed!']);\n",
       "            Plotly.purge(gd);\n",
       "            observer.disconnect();\n",
       "        }}\n",
       "}});\n",
       "\n",
       "// Listen for the removal of the full notebook cells\n",
       "var notebookContainer = gd.closest('#notebook-container');\n",
       "if (notebookContainer) {{\n",
       "    x.observe(notebookContainer, {childList: true});\n",
       "}}\n",
       "\n",
       "// Listen for the clearing of the current output cell\n",
       "var outputEl = gd.closest('.output');\n",
       "if (outputEl) {{\n",
       "    x.observe(outputEl, {childList: true});\n",
       "}}\n",
       "\n",
       "                        })                };                });            </script>        </div>"
      ]
     },
     "metadata": {},
     "output_type": "display_data"
    },
    {
     "data": {
      "application/vnd.plotly.v1+json": {
       "config": {
        "plotlyServerURL": "https://plot.ly"
       },
       "data": [
        {
         "autocontour": true,
         "contours": {
          "coloring": "none",
          "end": 20,
          "size": 2,
          "start": 2
         },
         "hovertemplate": "BodyPart=Knee<br>x=%{x}<br>y=%{y}<br>count=%{z}<extra></extra>",
         "legendgroup": "Knee",
         "line": {
          "color": "#636efa"
         },
         "name": "Knee",
         "showlegend": true,
         "type": "histogram2dcontour",
         "x": [
          58.91,
          58.78,
          57.07,
          93.02,
          92.56,
          25.6,
          39.87,
          73.78,
          82.71,
          92.07,
          59.8,
          62.08,
          39.95,
          39.99,
          39.97,
          39.46,
          39.18,
          39.18,
          40.06,
          40.06,
          40.03,
          77.43,
          93.79,
          93.76,
          93.5,
          93.44,
          93.48,
          19.69,
          19.55,
          40.02,
          39.58,
          39.59,
          39.6,
          40.14,
          40.17,
          40.1,
          40.07,
          40.71,
          40.1,
          40.19,
          28.17,
          30.68,
          30.54,
          30.11,
          29.05,
          28.85,
          41.66,
          30.45,
          30.7,
          53.92,
          57.02,
          56.96,
          35.44,
          34.04,
          33.32,
          48.32,
          48.55,
          49.08,
          42.66,
          44.07,
          104.09,
          104.28,
          85.48,
          84.81,
          84.8,
          80.73,
          78.84,
          75.67,
          86.49,
          9.84,
          9.81,
          9.78,
          10.04,
          9.91,
          12.04,
          21.52,
          22.07,
          86.06,
          86.03,
          83.5,
          81.23,
          77.54,
          69.18,
          62.14,
          61.84,
          9.99,
          8.44,
          8.96,
          10.51,
          10.25,
          9.8,
          0.13,
          22.34,
          22.38,
          22.07,
          23.06,
          23.9,
          24.51,
          24.52,
          75.96,
          75.75,
          74.77,
          57.22,
          45.94,
          33.8,
          25.65,
          31.63,
          55.94,
          76.27,
          76.25,
          76.25,
          20.3,
          9.46
         ],
         "xaxis": "x",
         "xbingroup": "x",
         "y": [
          24,
          24.01,
          21.72,
          45.17,
          41.42,
          31.6,
          36.77,
          35.17,
          33.68,
          27.08,
          10.69,
          1.26,
          10.22,
          10.23,
          10.23,
          10.13,
          10.25,
          10.25,
          10.24,
          10.23,
          10.22,
          15.96,
          34.66,
          34.71,
          35.4,
          35.37,
          35.48,
          29.75,
          29.74,
          23.4,
          23.09,
          23.12,
          23.06,
          22.9,
          22.92,
          22.82,
          22.76,
          22.68,
          22.92,
          22.55,
          23.78,
          21.15,
          21.82,
          22.82,
          23.99,
          23.81,
          1.34,
          23.12,
          23.04,
          -0.17,
          -2.67,
          -2.57,
          26.44,
          25.85,
          25.2,
          22.73,
          23.15,
          23.29,
          5.87,
          5.73,
          14.37,
          14.2,
          21.11,
          21.09,
          21.09,
          8.64,
          5.09,
          2.08,
          30.39,
          31.77,
          31.74,
          31.75,
          30.91,
          31.01,
          23.14,
          13.09,
          12.56,
          24.11,
          24.1,
          24.22,
          26.05,
          18,
          16.03,
          15.64,
          13.66,
          24.2,
          24.26,
          27.73,
          32.49,
          31.17,
          30.78,
          51.48,
          21.87,
          21.56,
          21.65,
          20.99,
          18.5,
          18.5,
          18.85,
          41.93,
          41.87,
          41.76,
          41.84,
          42.31,
          42.22,
          43.33,
          48.29,
          -2.7,
          31.37,
          31.48,
          31.48,
          42.19,
          44.41
         ],
         "yaxis": "y",
         "ybingroup": "y"
        },
        {
         "alignmentgroup": "True",
         "hovertemplate": "BodyPart=Knee<br>x=%{x}<extra></extra>",
         "legendgroup": "Knee",
         "line": {
          "color": "#636efa"
         },
         "marker": {
          "color": "#636efa"
         },
         "name": "Knee",
         "notched": true,
         "offsetgroup": "Knee",
         "showlegend": false,
         "type": "box",
         "x": [
          58.91,
          58.78,
          57.07,
          93.02,
          92.56,
          25.6,
          39.87,
          73.78,
          82.71,
          92.07,
          59.8,
          62.08,
          39.95,
          39.99,
          39.97,
          39.46,
          39.18,
          39.18,
          40.06,
          40.06,
          40.03,
          77.43,
          93.79,
          93.76,
          93.5,
          93.44,
          93.48,
          19.69,
          19.55,
          40.02,
          39.58,
          39.59,
          39.6,
          40.14,
          40.17,
          40.1,
          40.07,
          40.71,
          40.1,
          40.19,
          28.17,
          30.68,
          30.54,
          30.11,
          29.05,
          28.85,
          41.66,
          30.45,
          30.7,
          53.92,
          57.02,
          56.96,
          35.44,
          34.04,
          33.32,
          48.32,
          48.55,
          49.08,
          42.66,
          44.07,
          104.09,
          104.28,
          85.48,
          84.81,
          84.8,
          80.73,
          78.84,
          75.67,
          86.49,
          9.84,
          9.81,
          9.78,
          10.04,
          9.91,
          12.04,
          21.52,
          22.07,
          86.06,
          86.03,
          83.5,
          81.23,
          77.54,
          69.18,
          62.14,
          61.84,
          9.99,
          8.44,
          8.96,
          10.51,
          10.25,
          9.8,
          0.13,
          22.34,
          22.38,
          22.07,
          23.06,
          23.9,
          24.51,
          24.52,
          75.96,
          75.75,
          74.77,
          57.22,
          45.94,
          33.8,
          25.65,
          31.63,
          55.94,
          76.27,
          76.25,
          76.25,
          20.3,
          9.46
         ],
         "xaxis": "x3",
         "yaxis": "y3"
        },
        {
         "alignmentgroup": "True",
         "hovertemplate": "BodyPart=Knee<br>y=%{y}<extra></extra>",
         "legendgroup": "Knee",
         "line": {
          "color": "#636efa"
         },
         "marker": {
          "color": "#636efa"
         },
         "name": "Knee",
         "notched": true,
         "offsetgroup": "Knee",
         "showlegend": false,
         "type": "box",
         "xaxis": "x2",
         "y": [
          24,
          24.01,
          21.72,
          45.17,
          41.42,
          31.6,
          36.77,
          35.17,
          33.68,
          27.08,
          10.69,
          1.26,
          10.22,
          10.23,
          10.23,
          10.13,
          10.25,
          10.25,
          10.24,
          10.23,
          10.22,
          15.96,
          34.66,
          34.71,
          35.4,
          35.37,
          35.48,
          29.75,
          29.74,
          23.4,
          23.09,
          23.12,
          23.06,
          22.9,
          22.92,
          22.82,
          22.76,
          22.68,
          22.92,
          22.55,
          23.78,
          21.15,
          21.82,
          22.82,
          23.99,
          23.81,
          1.34,
          23.12,
          23.04,
          -0.17,
          -2.67,
          -2.57,
          26.44,
          25.85,
          25.2,
          22.73,
          23.15,
          23.29,
          5.87,
          5.73,
          14.37,
          14.2,
          21.11,
          21.09,
          21.09,
          8.64,
          5.09,
          2.08,
          30.39,
          31.77,
          31.74,
          31.75,
          30.91,
          31.01,
          23.14,
          13.09,
          12.56,
          24.11,
          24.1,
          24.22,
          26.05,
          18,
          16.03,
          15.64,
          13.66,
          24.2,
          24.26,
          27.73,
          32.49,
          31.17,
          30.78,
          51.48,
          21.87,
          21.56,
          21.65,
          20.99,
          18.5,
          18.5,
          18.85,
          41.93,
          41.87,
          41.76,
          41.84,
          42.31,
          42.22,
          43.33,
          48.29,
          -2.7,
          31.37,
          31.48,
          31.48,
          42.19,
          44.41
         ],
         "yaxis": "y2"
        },
        {
         "autocontour": true,
         "contours": {
          "coloring": "none",
          "end": 18,
          "size": 2,
          "start": 2
         },
         "hovertemplate": "BodyPart=Ankle<br>x=%{x}<br>y=%{y}<br>count=%{z}<extra></extra>",
         "legendgroup": "Ankle",
         "line": {
          "color": "#EF553B"
         },
         "name": "Ankle",
         "showlegend": true,
         "type": "histogram2dcontour",
         "x": [
          83.19,
          74.87,
          74.41,
          73.56,
          55.61,
          57.11,
          57.31,
          67.77,
          75.22,
          70.7,
          71.1,
          91.78,
          81.59,
          52.36,
          50.84,
          38.7,
          38.78,
          53.24,
          53.57,
          54.99,
          60.13,
          51.33,
          51.01,
          51.09,
          51.55,
          54.42,
          55.06,
          44.61,
          60.23,
          59.45,
          58.41,
          58.4,
          59.34,
          61.68,
          62.22,
          74.65,
          78.1,
          78.76,
          78.46,
          78.32,
          78.3,
          11.71,
          12.08,
          9.87,
          9.95,
          10.03,
          88.36,
          90.44,
          90.87,
          89.04,
          86.9,
          71.45,
          24.63,
          24.65,
          72.89,
          80.17,
          79.99,
          79.96,
          80.18,
          79.85,
          79.88,
          80.64,
          80.69,
          80.18,
          79.98,
          79.83,
          79.65,
          79.2,
          66.26,
          66.6,
          65.59,
          63.47,
          79.09,
          81.07,
          40.91,
          40.91,
          39.55,
          38.67,
          38.57,
          38.71,
          42.83,
          42.28,
          42.03,
          41.84,
          40.95,
          41.1,
          70.88,
          69.51,
          68.9,
          68.66,
          69.11,
          74.1,
          62.95,
          76.91,
          49.04,
          61.69,
          52.62,
          49.59,
          49.32,
          48.78,
          48.78,
          48.92,
          50.47,
          55.04,
          55.04,
          54.33,
          9.99,
          8.44,
          8.96,
          10.51,
          10.25,
          9.8,
          0.13,
          66.34,
          60.16,
          60.05,
          60.04,
          60.22,
          55.22
         ],
         "xaxis": "x",
         "xbingroup": "x",
         "y": [
          29.97,
          21.03,
          19.94,
          10.65,
          45.34,
          47.27,
          48.68,
          46.21,
          47.26,
          25.69,
          25.91,
          11.3,
          12.68,
          28.94,
          33.04,
          50.75,
          50.55,
          31.45,
          31.5,
          32.42,
          32.03,
          30.98,
          30.94,
          31.43,
          32.29,
          36.6,
          36.55,
          40.77,
          27.75,
          27.34,
          27.36,
          27.37,
          27.58,
          27.52,
          27.56,
          25.84,
          25.25,
          24.69,
          23.27,
          22.85,
          22.82,
          35.91,
          36.34,
          50.19,
          49.85,
          49.84,
          28.03,
          27.4,
          23.31,
          19.53,
          11.61,
          5.45,
          21.67,
          21.7,
          21.04,
          16.79,
          17.26,
          17.29,
          17.38,
          17.45,
          17.46,
          16.01,
          16.01,
          16.69,
          16.76,
          16.75,
          16.47,
          16.51,
          33.97,
          37.93,
          44.13,
          44.48,
          51.82,
          50.96,
          26.73,
          26.72,
          26.67,
          26.78,
          26.74,
          26.51,
          22.44,
          22.62,
          21.41,
          21.03,
          21.06,
          21.79,
          30.39,
          30.58,
          30.34,
          30.17,
          30.64,
          19,
          28.98,
          17.98,
          33.83,
          38.7,
          33.51,
          30.04,
          29.7,
          28.35,
          28.3,
          27.53,
          23.95,
          16.6,
          16.61,
          29.22,
          24.2,
          24.26,
          27.73,
          32.49,
          31.17,
          30.78,
          51.48,
          26.72,
          26.5,
          26.49,
          26.5,
          24.16,
          18.41
         ],
         "yaxis": "y",
         "ybingroup": "y"
        },
        {
         "alignmentgroup": "True",
         "hovertemplate": "BodyPart=Ankle<br>x=%{x}<extra></extra>",
         "legendgroup": "Ankle",
         "line": {
          "color": "#EF553B"
         },
         "marker": {
          "color": "#EF553B"
         },
         "name": "Ankle",
         "notched": true,
         "offsetgroup": "Ankle",
         "showlegend": false,
         "type": "box",
         "x": [
          83.19,
          74.87,
          74.41,
          73.56,
          55.61,
          57.11,
          57.31,
          67.77,
          75.22,
          70.7,
          71.1,
          91.78,
          81.59,
          52.36,
          50.84,
          38.7,
          38.78,
          53.24,
          53.57,
          54.99,
          60.13,
          51.33,
          51.01,
          51.09,
          51.55,
          54.42,
          55.06,
          44.61,
          60.23,
          59.45,
          58.41,
          58.4,
          59.34,
          61.68,
          62.22,
          74.65,
          78.1,
          78.76,
          78.46,
          78.32,
          78.3,
          11.71,
          12.08,
          9.87,
          9.95,
          10.03,
          88.36,
          90.44,
          90.87,
          89.04,
          86.9,
          71.45,
          24.63,
          24.65,
          72.89,
          80.17,
          79.99,
          79.96,
          80.18,
          79.85,
          79.88,
          80.64,
          80.69,
          80.18,
          79.98,
          79.83,
          79.65,
          79.2,
          66.26,
          66.6,
          65.59,
          63.47,
          79.09,
          81.07,
          40.91,
          40.91,
          39.55,
          38.67,
          38.57,
          38.71,
          42.83,
          42.28,
          42.03,
          41.84,
          40.95,
          41.1,
          70.88,
          69.51,
          68.9,
          68.66,
          69.11,
          74.1,
          62.95,
          76.91,
          49.04,
          61.69,
          52.62,
          49.59,
          49.32,
          48.78,
          48.78,
          48.92,
          50.47,
          55.04,
          55.04,
          54.33,
          9.99,
          8.44,
          8.96,
          10.51,
          10.25,
          9.8,
          0.13,
          66.34,
          60.16,
          60.05,
          60.04,
          60.22,
          55.22
         ],
         "xaxis": "x3",
         "yaxis": "y3"
        },
        {
         "alignmentgroup": "True",
         "hovertemplate": "BodyPart=Ankle<br>y=%{y}<extra></extra>",
         "legendgroup": "Ankle",
         "line": {
          "color": "#EF553B"
         },
         "marker": {
          "color": "#EF553B"
         },
         "name": "Ankle",
         "notched": true,
         "offsetgroup": "Ankle",
         "showlegend": false,
         "type": "box",
         "xaxis": "x2",
         "y": [
          29.97,
          21.03,
          19.94,
          10.65,
          45.34,
          47.27,
          48.68,
          46.21,
          47.26,
          25.69,
          25.91,
          11.3,
          12.68,
          28.94,
          33.04,
          50.75,
          50.55,
          31.45,
          31.5,
          32.42,
          32.03,
          30.98,
          30.94,
          31.43,
          32.29,
          36.6,
          36.55,
          40.77,
          27.75,
          27.34,
          27.36,
          27.37,
          27.58,
          27.52,
          27.56,
          25.84,
          25.25,
          24.69,
          23.27,
          22.85,
          22.82,
          35.91,
          36.34,
          50.19,
          49.85,
          49.84,
          28.03,
          27.4,
          23.31,
          19.53,
          11.61,
          5.45,
          21.67,
          21.7,
          21.04,
          16.79,
          17.26,
          17.29,
          17.38,
          17.45,
          17.46,
          16.01,
          16.01,
          16.69,
          16.76,
          16.75,
          16.47,
          16.51,
          33.97,
          37.93,
          44.13,
          44.48,
          51.82,
          50.96,
          26.73,
          26.72,
          26.67,
          26.78,
          26.74,
          26.51,
          22.44,
          22.62,
          21.41,
          21.03,
          21.06,
          21.79,
          30.39,
          30.58,
          30.34,
          30.17,
          30.64,
          19,
          28.98,
          17.98,
          33.83,
          38.7,
          33.51,
          30.04,
          29.7,
          28.35,
          28.3,
          27.53,
          23.95,
          16.6,
          16.61,
          29.22,
          24.2,
          24.26,
          27.73,
          32.49,
          31.17,
          30.78,
          51.48,
          26.72,
          26.5,
          26.49,
          26.5,
          24.16,
          18.41
         ],
         "yaxis": "y2"
        },
        {
         "autocontour": true,
         "contours": {
          "coloring": "none",
          "end": 3.5,
          "size": 0.5,
          "start": 0.5
         },
         "hovertemplate": "BodyPart=Foot<br>x=%{x}<br>y=%{y}<br>count=%{z}<extra></extra>",
         "legendgroup": "Foot",
         "line": {
          "color": "#00cc96"
         },
         "name": "Foot",
         "showlegend": true,
         "type": "histogram2dcontour",
         "x": [
          5.8,
          10.2,
          77.92,
          77.93,
          77.96,
          75.54,
          44.18
         ],
         "xaxis": "x",
         "xbingroup": "x",
         "y": [
          23.4,
          20.97,
          8.53,
          8.53,
          8.54,
          4.53,
          12.79
         ],
         "yaxis": "y",
         "ybingroup": "y"
        },
        {
         "alignmentgroup": "True",
         "hovertemplate": "BodyPart=Foot<br>x=%{x}<extra></extra>",
         "legendgroup": "Foot",
         "line": {
          "color": "#00cc96"
         },
         "marker": {
          "color": "#00cc96"
         },
         "name": "Foot",
         "notched": true,
         "offsetgroup": "Foot",
         "showlegend": false,
         "type": "box",
         "x": [
          5.8,
          10.2,
          77.92,
          77.93,
          77.96,
          75.54,
          44.18
         ],
         "xaxis": "x3",
         "yaxis": "y3"
        },
        {
         "alignmentgroup": "True",
         "hovertemplate": "BodyPart=Foot<br>y=%{y}<extra></extra>",
         "legendgroup": "Foot",
         "line": {
          "color": "#00cc96"
         },
         "marker": {
          "color": "#00cc96"
         },
         "name": "Foot",
         "notched": true,
         "offsetgroup": "Foot",
         "showlegend": false,
         "type": "box",
         "xaxis": "x2",
         "y": [
          23.4,
          20.97,
          8.53,
          8.53,
          8.54,
          4.53,
          12.79
         ],
         "yaxis": "y2"
        }
       ],
       "layout": {
        "height": 600,
        "legend": {
         "title": {
          "text": "BodyPart"
         },
         "tracegroupgap": 0
        },
        "template": {
         "data": {
          "bar": [
           {
            "error_x": {
             "color": "#2a3f5f"
            },
            "error_y": {
             "color": "#2a3f5f"
            },
            "marker": {
             "line": {
              "color": "#E5ECF6",
              "width": 0.5
             },
             "pattern": {
              "fillmode": "overlay",
              "size": 10,
              "solidity": 0.2
             }
            },
            "type": "bar"
           }
          ],
          "barpolar": [
           {
            "marker": {
             "line": {
              "color": "#E5ECF6",
              "width": 0.5
             },
             "pattern": {
              "fillmode": "overlay",
              "size": 10,
              "solidity": 0.2
             }
            },
            "type": "barpolar"
           }
          ],
          "carpet": [
           {
            "aaxis": {
             "endlinecolor": "#2a3f5f",
             "gridcolor": "white",
             "linecolor": "white",
             "minorgridcolor": "white",
             "startlinecolor": "#2a3f5f"
            },
            "baxis": {
             "endlinecolor": "#2a3f5f",
             "gridcolor": "white",
             "linecolor": "white",
             "minorgridcolor": "white",
             "startlinecolor": "#2a3f5f"
            },
            "type": "carpet"
           }
          ],
          "choropleth": [
           {
            "colorbar": {
             "outlinewidth": 0,
             "ticks": ""
            },
            "type": "choropleth"
           }
          ],
          "contour": [
           {
            "colorbar": {
             "outlinewidth": 0,
             "ticks": ""
            },
            "colorscale": [
             [
              0,
              "#0d0887"
             ],
             [
              0.1111111111111111,
              "#46039f"
             ],
             [
              0.2222222222222222,
              "#7201a8"
             ],
             [
              0.3333333333333333,
              "#9c179e"
             ],
             [
              0.4444444444444444,
              "#bd3786"
             ],
             [
              0.5555555555555556,
              "#d8576b"
             ],
             [
              0.6666666666666666,
              "#ed7953"
             ],
             [
              0.7777777777777778,
              "#fb9f3a"
             ],
             [
              0.8888888888888888,
              "#fdca26"
             ],
             [
              1,
              "#f0f921"
             ]
            ],
            "type": "contour"
           }
          ],
          "contourcarpet": [
           {
            "colorbar": {
             "outlinewidth": 0,
             "ticks": ""
            },
            "type": "contourcarpet"
           }
          ],
          "heatmap": [
           {
            "colorbar": {
             "outlinewidth": 0,
             "ticks": ""
            },
            "colorscale": [
             [
              0,
              "#0d0887"
             ],
             [
              0.1111111111111111,
              "#46039f"
             ],
             [
              0.2222222222222222,
              "#7201a8"
             ],
             [
              0.3333333333333333,
              "#9c179e"
             ],
             [
              0.4444444444444444,
              "#bd3786"
             ],
             [
              0.5555555555555556,
              "#d8576b"
             ],
             [
              0.6666666666666666,
              "#ed7953"
             ],
             [
              0.7777777777777778,
              "#fb9f3a"
             ],
             [
              0.8888888888888888,
              "#fdca26"
             ],
             [
              1,
              "#f0f921"
             ]
            ],
            "type": "heatmap"
           }
          ],
          "heatmapgl": [
           {
            "colorbar": {
             "outlinewidth": 0,
             "ticks": ""
            },
            "colorscale": [
             [
              0,
              "#0d0887"
             ],
             [
              0.1111111111111111,
              "#46039f"
             ],
             [
              0.2222222222222222,
              "#7201a8"
             ],
             [
              0.3333333333333333,
              "#9c179e"
             ],
             [
              0.4444444444444444,
              "#bd3786"
             ],
             [
              0.5555555555555556,
              "#d8576b"
             ],
             [
              0.6666666666666666,
              "#ed7953"
             ],
             [
              0.7777777777777778,
              "#fb9f3a"
             ],
             [
              0.8888888888888888,
              "#fdca26"
             ],
             [
              1,
              "#f0f921"
             ]
            ],
            "type": "heatmapgl"
           }
          ],
          "histogram": [
           {
            "marker": {
             "pattern": {
              "fillmode": "overlay",
              "size": 10,
              "solidity": 0.2
             }
            },
            "type": "histogram"
           }
          ],
          "histogram2d": [
           {
            "colorbar": {
             "outlinewidth": 0,
             "ticks": ""
            },
            "colorscale": [
             [
              0,
              "#0d0887"
             ],
             [
              0.1111111111111111,
              "#46039f"
             ],
             [
              0.2222222222222222,
              "#7201a8"
             ],
             [
              0.3333333333333333,
              "#9c179e"
             ],
             [
              0.4444444444444444,
              "#bd3786"
             ],
             [
              0.5555555555555556,
              "#d8576b"
             ],
             [
              0.6666666666666666,
              "#ed7953"
             ],
             [
              0.7777777777777778,
              "#fb9f3a"
             ],
             [
              0.8888888888888888,
              "#fdca26"
             ],
             [
              1,
              "#f0f921"
             ]
            ],
            "type": "histogram2d"
           }
          ],
          "histogram2dcontour": [
           {
            "colorbar": {
             "outlinewidth": 0,
             "ticks": ""
            },
            "colorscale": [
             [
              0,
              "#0d0887"
             ],
             [
              0.1111111111111111,
              "#46039f"
             ],
             [
              0.2222222222222222,
              "#7201a8"
             ],
             [
              0.3333333333333333,
              "#9c179e"
             ],
             [
              0.4444444444444444,
              "#bd3786"
             ],
             [
              0.5555555555555556,
              "#d8576b"
             ],
             [
              0.6666666666666666,
              "#ed7953"
             ],
             [
              0.7777777777777778,
              "#fb9f3a"
             ],
             [
              0.8888888888888888,
              "#fdca26"
             ],
             [
              1,
              "#f0f921"
             ]
            ],
            "type": "histogram2dcontour"
           }
          ],
          "mesh3d": [
           {
            "colorbar": {
             "outlinewidth": 0,
             "ticks": ""
            },
            "type": "mesh3d"
           }
          ],
          "parcoords": [
           {
            "line": {
             "colorbar": {
              "outlinewidth": 0,
              "ticks": ""
             }
            },
            "type": "parcoords"
           }
          ],
          "pie": [
           {
            "automargin": true,
            "type": "pie"
           }
          ],
          "scatter": [
           {
            "fillpattern": {
             "fillmode": "overlay",
             "size": 10,
             "solidity": 0.2
            },
            "type": "scatter"
           }
          ],
          "scatter3d": [
           {
            "line": {
             "colorbar": {
              "outlinewidth": 0,
              "ticks": ""
             }
            },
            "marker": {
             "colorbar": {
              "outlinewidth": 0,
              "ticks": ""
             }
            },
            "type": "scatter3d"
           }
          ],
          "scattercarpet": [
           {
            "marker": {
             "colorbar": {
              "outlinewidth": 0,
              "ticks": ""
             }
            },
            "type": "scattercarpet"
           }
          ],
          "scattergeo": [
           {
            "marker": {
             "colorbar": {
              "outlinewidth": 0,
              "ticks": ""
             }
            },
            "type": "scattergeo"
           }
          ],
          "scattergl": [
           {
            "marker": {
             "colorbar": {
              "outlinewidth": 0,
              "ticks": ""
             }
            },
            "type": "scattergl"
           }
          ],
          "scattermapbox": [
           {
            "marker": {
             "colorbar": {
              "outlinewidth": 0,
              "ticks": ""
             }
            },
            "type": "scattermapbox"
           }
          ],
          "scatterpolar": [
           {
            "marker": {
             "colorbar": {
              "outlinewidth": 0,
              "ticks": ""
             }
            },
            "type": "scatterpolar"
           }
          ],
          "scatterpolargl": [
           {
            "marker": {
             "colorbar": {
              "outlinewidth": 0,
              "ticks": ""
             }
            },
            "type": "scatterpolargl"
           }
          ],
          "scatterternary": [
           {
            "marker": {
             "colorbar": {
              "outlinewidth": 0,
              "ticks": ""
             }
            },
            "type": "scatterternary"
           }
          ],
          "surface": [
           {
            "colorbar": {
             "outlinewidth": 0,
             "ticks": ""
            },
            "colorscale": [
             [
              0,
              "#0d0887"
             ],
             [
              0.1111111111111111,
              "#46039f"
             ],
             [
              0.2222222222222222,
              "#7201a8"
             ],
             [
              0.3333333333333333,
              "#9c179e"
             ],
             [
              0.4444444444444444,
              "#bd3786"
             ],
             [
              0.5555555555555556,
              "#d8576b"
             ],
             [
              0.6666666666666666,
              "#ed7953"
             ],
             [
              0.7777777777777778,
              "#fb9f3a"
             ],
             [
              0.8888888888888888,
              "#fdca26"
             ],
             [
              1,
              "#f0f921"
             ]
            ],
            "type": "surface"
           }
          ],
          "table": [
           {
            "cells": {
             "fill": {
              "color": "#EBF0F8"
             },
             "line": {
              "color": "white"
             }
            },
            "header": {
             "fill": {
              "color": "#C8D4E3"
             },
             "line": {
              "color": "white"
             }
            },
            "type": "table"
           }
          ]
         },
         "layout": {
          "annotationdefaults": {
           "arrowcolor": "#2a3f5f",
           "arrowhead": 0,
           "arrowwidth": 1
          },
          "autotypenumbers": "strict",
          "coloraxis": {
           "colorbar": {
            "outlinewidth": 0,
            "ticks": ""
           }
          },
          "colorscale": {
           "diverging": [
            [
             0,
             "#8e0152"
            ],
            [
             0.1,
             "#c51b7d"
            ],
            [
             0.2,
             "#de77ae"
            ],
            [
             0.3,
             "#f1b6da"
            ],
            [
             0.4,
             "#fde0ef"
            ],
            [
             0.5,
             "#f7f7f7"
            ],
            [
             0.6,
             "#e6f5d0"
            ],
            [
             0.7,
             "#b8e186"
            ],
            [
             0.8,
             "#7fbc41"
            ],
            [
             0.9,
             "#4d9221"
            ],
            [
             1,
             "#276419"
            ]
           ],
           "sequential": [
            [
             0,
             "#0d0887"
            ],
            [
             0.1111111111111111,
             "#46039f"
            ],
            [
             0.2222222222222222,
             "#7201a8"
            ],
            [
             0.3333333333333333,
             "#9c179e"
            ],
            [
             0.4444444444444444,
             "#bd3786"
            ],
            [
             0.5555555555555556,
             "#d8576b"
            ],
            [
             0.6666666666666666,
             "#ed7953"
            ],
            [
             0.7777777777777778,
             "#fb9f3a"
            ],
            [
             0.8888888888888888,
             "#fdca26"
            ],
            [
             1,
             "#f0f921"
            ]
           ],
           "sequentialminus": [
            [
             0,
             "#0d0887"
            ],
            [
             0.1111111111111111,
             "#46039f"
            ],
            [
             0.2222222222222222,
             "#7201a8"
            ],
            [
             0.3333333333333333,
             "#9c179e"
            ],
            [
             0.4444444444444444,
             "#bd3786"
            ],
            [
             0.5555555555555556,
             "#d8576b"
            ],
            [
             0.6666666666666666,
             "#ed7953"
            ],
            [
             0.7777777777777778,
             "#fb9f3a"
            ],
            [
             0.8888888888888888,
             "#fdca26"
            ],
            [
             1,
             "#f0f921"
            ]
           ]
          },
          "colorway": [
           "#636efa",
           "#EF553B",
           "#00cc96",
           "#ab63fa",
           "#FFA15A",
           "#19d3f3",
           "#FF6692",
           "#B6E880",
           "#FF97FF",
           "#FECB52"
          ],
          "font": {
           "color": "#2a3f5f"
          },
          "geo": {
           "bgcolor": "white",
           "lakecolor": "white",
           "landcolor": "#E5ECF6",
           "showlakes": true,
           "showland": true,
           "subunitcolor": "white"
          },
          "hoverlabel": {
           "align": "left"
          },
          "hovermode": "closest",
          "mapbox": {
           "style": "light"
          },
          "paper_bgcolor": "white",
          "plot_bgcolor": "#E5ECF6",
          "polar": {
           "angularaxis": {
            "gridcolor": "white",
            "linecolor": "white",
            "ticks": ""
           },
           "bgcolor": "#E5ECF6",
           "radialaxis": {
            "gridcolor": "white",
            "linecolor": "white",
            "ticks": ""
           }
          },
          "scene": {
           "xaxis": {
            "backgroundcolor": "#E5ECF6",
            "gridcolor": "white",
            "gridwidth": 2,
            "linecolor": "white",
            "showbackground": true,
            "ticks": "",
            "zerolinecolor": "white"
           },
           "yaxis": {
            "backgroundcolor": "#E5ECF6",
            "gridcolor": "white",
            "gridwidth": 2,
            "linecolor": "white",
            "showbackground": true,
            "ticks": "",
            "zerolinecolor": "white"
           },
           "zaxis": {
            "backgroundcolor": "#E5ECF6",
            "gridcolor": "white",
            "gridwidth": 2,
            "linecolor": "white",
            "showbackground": true,
            "ticks": "",
            "zerolinecolor": "white"
           }
          },
          "shapedefaults": {
           "line": {
            "color": "#2a3f5f"
           }
          },
          "ternary": {
           "aaxis": {
            "gridcolor": "white",
            "linecolor": "white",
            "ticks": ""
           },
           "baxis": {
            "gridcolor": "white",
            "linecolor": "white",
            "ticks": ""
           },
           "bgcolor": "#E5ECF6",
           "caxis": {
            "gridcolor": "white",
            "linecolor": "white",
            "ticks": ""
           }
          },
          "title": {
           "x": 0.05
          },
          "xaxis": {
           "automargin": true,
           "gridcolor": "white",
           "linecolor": "white",
           "ticks": "",
           "title": {
            "standoff": 15
           },
           "zerolinecolor": "white",
           "zerolinewidth": 2
          },
          "yaxis": {
           "automargin": true,
           "gridcolor": "white",
           "linecolor": "white",
           "ticks": "",
           "title": {
            "standoff": 15
           },
           "zerolinecolor": "white",
           "zerolinewidth": 2
          }
         }
        },
        "title": {
         "text": "Injury distribution on synthetic surface"
        },
        "width": 800,
        "xaxis": {
         "anchor": "y",
         "autorange": true,
         "domain": [
          0,
          0.7363
         ],
         "range": [
          -20,
          120
         ],
         "title": {
          "text": "x"
         },
         "type": "linear"
        },
        "xaxis2": {
         "anchor": "y2",
         "autorange": true,
         "domain": [
          0.7413,
          1
         ],
         "matches": "x2",
         "range": [
          -0.5,
          2.5
         ],
         "showgrid": false,
         "showline": false,
         "showticklabels": false,
         "ticks": "",
         "type": "category"
        },
        "xaxis3": {
         "anchor": "y3",
         "autorange": true,
         "domain": [
          0,
          0.7363
         ],
         "matches": "x",
         "range": [
          -20,
          120
         ],
         "showgrid": true,
         "showticklabels": false,
         "type": "linear"
        },
        "xaxis4": {
         "anchor": "y4",
         "domain": [
          0.7413,
          1
         ],
         "matches": "x2",
         "showgrid": false,
         "showline": false,
         "showticklabels": false,
         "ticks": ""
        },
        "yaxis": {
         "anchor": "x",
         "autorange": true,
         "domain": [
          0,
          0.7326
         ],
         "range": [
          -15,
          65
         ],
         "title": {
          "text": "y"
         },
         "type": "linear"
        },
        "yaxis2": {
         "anchor": "x2",
         "autorange": true,
         "domain": [
          0,
          0.7326
         ],
         "matches": "y",
         "range": [
          -15,
          65
         ],
         "showgrid": true,
         "showticklabels": false,
         "type": "linear"
        },
        "yaxis3": {
         "anchor": "x3",
         "autorange": true,
         "domain": [
          0.7426,
          1
         ],
         "matches": "y3",
         "range": [
          -0.5,
          2.5
         ],
         "showgrid": false,
         "showline": false,
         "showticklabels": false,
         "ticks": "",
         "type": "category"
        },
        "yaxis4": {
         "anchor": "x4",
         "domain": [
          0.7426,
          1
         ],
         "matches": "y3",
         "showgrid": true,
         "showline": false,
         "showticklabels": false,
         "ticks": ""
        }
       }
      },
      "image/png": "[encoded data removed]",
      "text/html": [
       "<div>                            <div id=\"c91f3d4e-6f95-4772-b020-017bf8d6f3c2\" class=\"plotly-graph-div\" style=\"height:600px; width:800px;\"></div>            <script type=\"text/javascript\">                require([\"plotly\"], function(Plotly) {                    window.PLOTLYENV=window.PLOTLYENV || {};                                    if (document.getElementById(\"c91f3d4e-6f95-4772-b020-017bf8d6f3c2\")) {                    Plotly.newPlot(                        \"c91f3d4e-6f95-4772-b020-017bf8d6f3c2\",                        [{\"contours\":{\"coloring\":\"none\"},\"hovertemplate\":\"BodyPart=Knee<br>x=%{x}<br>y=%{y}<br>count=%{z}<extra></extra>\",\"legendgroup\":\"Knee\",\"line\":{\"color\":\"#636efa\"},\"name\":\"Knee\",\"showlegend\":true,\"x\":[58.91,58.78,57.07,93.02,92.56,25.6,39.87,73.78,82.71,92.07,59.8,62.08,39.95,39.99,39.97,39.46,39.18,39.18,40.06,40.06,40.03,77.43,93.79,93.76,93.5,93.44,93.48,19.69,19.55,40.02,39.58,39.59,39.6,40.14,40.17,40.1,40.07,40.71,40.1,40.19,28.17,30.68,30.54,30.11,29.05,28.85,41.66,30.45,30.7,53.92,57.02,56.96,35.44,34.04,33.32,48.32,48.55,49.08,42.66,44.07,104.09,104.28,85.48,84.81,84.8,80.73,78.84,75.67,86.49,9.84,9.81,9.78,10.04,9.91,12.04,21.52,22.07,86.06,86.03,83.5,81.23,77.54,69.18,62.14,61.84,9.99,8.44,8.96,10.51,10.25,9.8,0.13,22.34,22.38,22.07,23.06,23.9,24.51,24.52,75.96,75.75,74.77,57.22,45.94,33.8,25.65,31.63,55.94,76.27,76.25,76.25,20.3,9.46],\"xaxis\":\"x\",\"xbingroup\":\"x\",\"y\":[24.0,24.01,21.72,45.17,41.42,31.6,36.77,35.17,33.68,27.08,10.69,1.26,10.22,10.23,10.23,10.13,10.25,10.25,10.24,10.23,10.22,15.96,34.66,34.71,35.4,35.37,35.48,29.75,29.74,23.4,23.09,23.12,23.06,22.9,22.92,22.82,22.76,22.68,22.92,22.55,23.78,21.15,21.82,22.82,23.99,23.81,1.34,23.12,23.04,-0.17,-2.67,-2.57,26.44,25.85,25.2,22.73,23.15,23.29,5.87,5.73,14.37,14.2,21.11,21.09,21.09,8.64,5.09,2.08,30.39,31.77,31.74,31.75,30.91,31.01,23.14,13.09,12.56,24.11,24.1,24.22,26.05,18.0,16.03,15.64,13.66,24.2,24.26,27.73,32.49,31.17,30.78,51.48,21.87,21.56,21.65,20.99,18.5,18.5,18.85,41.93,41.87,41.76,41.84,42.31,42.22,43.33,48.29,-2.7,31.37,31.48,31.48,42.19,44.41],\"yaxis\":\"y\",\"ybingroup\":\"y\",\"type\":\"histogram2dcontour\"},{\"alignmentgroup\":\"True\",\"hovertemplate\":\"BodyPart=Knee<br>x=%{x}<extra></extra>\",\"legendgroup\":\"Knee\",\"line\":{\"color\":\"#636efa\"},\"marker\":{\"color\":\"#636efa\"},\"name\":\"Knee\",\"notched\":true,\"offsetgroup\":\"Knee\",\"showlegend\":false,\"x\":[58.91,58.78,57.07,93.02,92.56,25.6,39.87,73.78,82.71,92.07,59.8,62.08,39.95,39.99,39.97,39.46,39.18,39.18,40.06,40.06,40.03,77.43,93.79,93.76,93.5,93.44,93.48,19.69,19.55,40.02,39.58,39.59,39.6,40.14,40.17,40.1,40.07,40.71,40.1,40.19,28.17,30.68,30.54,30.11,29.05,28.85,41.66,30.45,30.7,53.92,57.02,56.96,35.44,34.04,33.32,48.32,48.55,49.08,42.66,44.07,104.09,104.28,85.48,84.81,84.8,80.73,78.84,75.67,86.49,9.84,9.81,9.78,10.04,9.91,12.04,21.52,22.07,86.06,86.03,83.5,81.23,77.54,69.18,62.14,61.84,9.99,8.44,8.96,10.51,10.25,9.8,0.13,22.34,22.38,22.07,23.06,23.9,24.51,24.52,75.96,75.75,74.77,57.22,45.94,33.8,25.65,31.63,55.94,76.27,76.25,76.25,20.3,9.46],\"xaxis\":\"x3\",\"yaxis\":\"y3\",\"type\":\"box\"},{\"alignmentgroup\":\"True\",\"hovertemplate\":\"BodyPart=Knee<br>y=%{y}<extra></extra>\",\"legendgroup\":\"Knee\",\"line\":{\"color\":\"#636efa\"},\"marker\":{\"color\":\"#636efa\"},\"name\":\"Knee\",\"notched\":true,\"offsetgroup\":\"Knee\",\"showlegend\":false,\"xaxis\":\"x2\",\"y\":[24.0,24.01,21.72,45.17,41.42,31.6,36.77,35.17,33.68,27.08,10.69,1.26,10.22,10.23,10.23,10.13,10.25,10.25,10.24,10.23,10.22,15.96,34.66,34.71,35.4,35.37,35.48,29.75,29.74,23.4,23.09,23.12,23.06,22.9,22.92,22.82,22.76,22.68,22.92,22.55,23.78,21.15,21.82,22.82,23.99,23.81,1.34,23.12,23.04,-0.17,-2.67,-2.57,26.44,25.85,25.2,22.73,23.15,23.29,5.87,5.73,14.37,14.2,21.11,21.09,21.09,8.64,5.09,2.08,30.39,31.77,31.74,31.75,30.91,31.01,23.14,13.09,12.56,24.11,24.1,24.22,26.05,18.0,16.03,15.64,13.66,24.2,24.26,27.73,32.49,31.17,30.78,51.48,21.87,21.56,21.65,20.99,18.5,18.5,18.85,41.93,41.87,41.76,41.84,42.31,42.22,43.33,48.29,-2.7,31.37,31.48,31.48,42.19,44.41],\"yaxis\":\"y2\",\"type\":\"box\"},{\"contours\":{\"coloring\":\"none\"},\"hovertemplate\":\"BodyPart=Ankle<br>x=%{x}<br>y=%{y}<br>count=%{z}<extra></extra>\",\"legendgroup\":\"Ankle\",\"line\":{\"color\":\"#EF553B\"},\"name\":\"Ankle\",\"showlegend\":true,\"x\":[83.19,74.87,74.41,73.56,55.61,57.11,57.31,67.77,75.22,70.7,71.1,91.78,81.59,52.36,50.84,38.7,38.78,53.24,53.57,54.99,60.13,51.33,51.01,51.09,51.55,54.42,55.06,44.61,60.23,59.45,58.41,58.4,59.34,61.68,62.22,74.65,78.1,78.76,78.46,78.32,78.3,11.71,12.08,9.87,9.95,10.03,88.36,90.44,90.87,89.04,86.9,71.45,24.63,24.65,72.89,80.17,79.99,79.96,80.18,79.85,79.88,80.64,80.69,80.18,79.98,79.83,79.65,79.2,66.26,66.6,65.59,63.47,79.09,81.07,40.91,40.91,39.55,38.67,38.57,38.71,42.83,42.28,42.03,41.84,40.95,41.1,70.88,69.51,68.9,68.66,69.11,74.1,62.95,76.91,49.04,61.69,52.62,49.59,49.32,48.78,48.78,48.92,50.47,55.04,55.04,54.33,9.99,8.44,8.96,10.51,10.25,9.8,0.13,66.34,60.16,60.05,60.04,60.22,55.22],\"xaxis\":\"x\",\"xbingroup\":\"x\",\"y\":[29.97,21.03,19.94,10.65,45.34,47.27,48.68,46.21,47.26,25.69,25.91,11.3,12.68,28.94,33.04,50.75,50.55,31.45,31.5,32.42,32.03,30.98,30.94,31.43,32.29,36.6,36.55,40.77,27.75,27.34,27.36,27.37,27.58,27.52,27.56,25.84,25.25,24.69,23.27,22.85,22.82,35.91,36.34,50.19,49.85,49.84,28.03,27.4,23.31,19.53,11.61,5.45,21.67,21.7,21.04,16.79,17.26,17.29,17.38,17.45,17.46,16.01,16.01,16.69,16.76,16.75,16.47,16.51,33.97,37.93,44.13,44.48,51.82,50.96,26.73,26.72,26.67,26.78,26.74,26.51,22.44,22.62,21.41,21.03,21.06,21.79,30.39,30.58,30.34,30.17,30.64,19.0,28.98,17.98,33.83,38.7,33.51,30.04,29.7,28.35,28.3,27.53,23.95,16.6,16.61,29.22,24.2,24.26,27.73,32.49,31.17,30.78,51.48,26.72,26.5,26.49,26.5,24.16,18.41],\"yaxis\":\"y\",\"ybingroup\":\"y\",\"type\":\"histogram2dcontour\"},{\"alignmentgroup\":\"True\",\"hovertemplate\":\"BodyPart=Ankle<br>x=%{x}<extra></extra>\",\"legendgroup\":\"Ankle\",\"line\":{\"color\":\"#EF553B\"},\"marker\":{\"color\":\"#EF553B\"},\"name\":\"Ankle\",\"notched\":true,\"offsetgroup\":\"Ankle\",\"showlegend\":false,\"x\":[83.19,74.87,74.41,73.56,55.61,57.11,57.31,67.77,75.22,70.7,71.1,91.78,81.59,52.36,50.84,38.7,38.78,53.24,53.57,54.99,60.13,51.33,51.01,51.09,51.55,54.42,55.06,44.61,60.23,59.45,58.41,58.4,59.34,61.68,62.22,74.65,78.1,78.76,78.46,78.32,78.3,11.71,12.08,9.87,9.95,10.03,88.36,90.44,90.87,89.04,86.9,71.45,24.63,24.65,72.89,80.17,79.99,79.96,80.18,79.85,79.88,80.64,80.69,80.18,79.98,79.83,79.65,79.2,66.26,66.6,65.59,63.47,79.09,81.07,40.91,40.91,39.55,38.67,38.57,38.71,42.83,42.28,42.03,41.84,40.95,41.1,70.88,69.51,68.9,68.66,69.11,74.1,62.95,76.91,49.04,61.69,52.62,49.59,49.32,48.78,48.78,48.92,50.47,55.04,55.04,54.33,9.99,8.44,8.96,10.51,10.25,9.8,0.13,66.34,60.16,60.05,60.04,60.22,55.22],\"xaxis\":\"x3\",\"yaxis\":\"y3\",\"type\":\"box\"},{\"alignmentgroup\":\"True\",\"hovertemplate\":\"BodyPart=Ankle<br>y=%{y}<extra></extra>\",\"legendgroup\":\"Ankle\",\"line\":{\"color\":\"#EF553B\"},\"marker\":{\"color\":\"#EF553B\"},\"name\":\"Ankle\",\"notched\":true,\"offsetgroup\":\"Ankle\",\"showlegend\":false,\"xaxis\":\"x2\",\"y\":[29.97,21.03,19.94,10.65,45.34,47.27,48.68,46.21,47.26,25.69,25.91,11.3,12.68,28.94,33.04,50.75,50.55,31.45,31.5,32.42,32.03,30.98,30.94,31.43,32.29,36.6,36.55,40.77,27.75,27.34,27.36,27.37,27.58,27.52,27.56,25.84,25.25,24.69,23.27,22.85,22.82,35.91,36.34,50.19,49.85,49.84,28.03,27.4,23.31,19.53,11.61,5.45,21.67,21.7,21.04,16.79,17.26,17.29,17.38,17.45,17.46,16.01,16.01,16.69,16.76,16.75,16.47,16.51,33.97,37.93,44.13,44.48,51.82,50.96,26.73,26.72,26.67,26.78,26.74,26.51,22.44,22.62,21.41,21.03,21.06,21.79,30.39,30.58,30.34,30.17,30.64,19.0,28.98,17.98,33.83,38.7,33.51,30.04,29.7,28.35,28.3,27.53,23.95,16.6,16.61,29.22,24.2,24.26,27.73,32.49,31.17,30.78,51.48,26.72,26.5,26.49,26.5,24.16,18.41],\"yaxis\":\"y2\",\"type\":\"box\"},{\"contours\":{\"coloring\":\"none\"},\"hovertemplate\":\"BodyPart=Foot<br>x=%{x}<br>y=%{y}<br>count=%{z}<extra></extra>\",\"legendgroup\":\"Foot\",\"line\":{\"color\":\"#00cc96\"},\"name\":\"Foot\",\"showlegend\":true,\"x\":[5.8,10.2,77.92,77.93,77.96,75.54,44.18],\"xaxis\":\"x\",\"xbingroup\":\"x\",\"y\":[23.4,20.97,8.53,8.53,8.54,4.53,12.79],\"yaxis\":\"y\",\"ybingroup\":\"y\",\"type\":\"histogram2dcontour\"},{\"alignmentgroup\":\"True\",\"hovertemplate\":\"BodyPart=Foot<br>x=%{x}<extra></extra>\",\"legendgroup\":\"Foot\",\"line\":{\"color\":\"#00cc96\"},\"marker\":{\"color\":\"#00cc96\"},\"name\":\"Foot\",\"notched\":true,\"offsetgroup\":\"Foot\",\"showlegend\":false,\"x\":[5.8,10.2,77.92,77.93,77.96,75.54,44.18],\"xaxis\":\"x3\",\"yaxis\":\"y3\",\"type\":\"box\"},{\"alignmentgroup\":\"True\",\"hovertemplate\":\"BodyPart=Foot<br>y=%{y}<extra></extra>\",\"legendgroup\":\"Foot\",\"line\":{\"color\":\"#00cc96\"},\"marker\":{\"color\":\"#00cc96\"},\"name\":\"Foot\",\"notched\":true,\"offsetgroup\":\"Foot\",\"showlegend\":false,\"xaxis\":\"x2\",\"y\":[23.4,20.97,8.53,8.53,8.54,4.53,12.79],\"yaxis\":\"y2\",\"type\":\"box\"}],                        {\"template\":{\"data\":{\"histogram2dcontour\":[{\"type\":\"histogram2dcontour\",\"colorbar\":{\"outlinewidth\":0,\"ticks\":\"\"},\"colorscale\":[[0.0,\"#0d0887\"],[0.1111111111111111,\"#46039f\"],[0.2222222222222222,\"#7201a8\"],[0.3333333333333333,\"#9c179e\"],[0.4444444444444444,\"#bd3786\"],[0.5555555555555556,\"#d8576b\"],[0.6666666666666666,\"#ed7953\"],[0.7777777777777778,\"#fb9f3a\"],[0.8888888888888888,\"#fdca26\"],[1.0,\"#f0f921\"]]}],\"choropleth\":[{\"type\":\"choropleth\",\"colorbar\":{\"outlinewidth\":0,\"ticks\":\"\"}}],\"histogram2d\":[{\"type\":\"histogram2d\",\"colorbar\":{\"outlinewidth\":0,\"ticks\":\"\"},\"colorscale\":[[0.0,\"#0d0887\"],[0.1111111111111111,\"#46039f\"],[0.2222222222222222,\"#7201a8\"],[0.3333333333333333,\"#9c179e\"],[0.4444444444444444,\"#bd3786\"],[0.5555555555555556,\"#d8576b\"],[0.6666666666666666,\"#ed7953\"],[0.7777777777777778,\"#fb9f3a\"],[0.8888888888888888,\"#fdca26\"],[1.0,\"#f0f921\"]]}],\"heatmap\":[{\"type\":\"heatmap\",\"colorbar\":{\"outlinewidth\":0,\"ticks\":\"\"},\"colorscale\":[[0.0,\"#0d0887\"],[0.1111111111111111,\"#46039f\"],[0.2222222222222222,\"#7201a8\"],[0.3333333333333333,\"#9c179e\"],[0.4444444444444444,\"#bd3786\"],[0.5555555555555556,\"#d8576b\"],[0.6666666666666666,\"#ed7953\"],[0.7777777777777778,\"#fb9f3a\"],[0.8888888888888888,\"#fdca26\"],[1.0,\"#f0f921\"]]}],\"heatmapgl\":[{\"type\":\"heatmapgl\",\"colorbar\":{\"outlinewidth\":0,\"ticks\":\"\"},\"colorscale\":[[0.0,\"#0d0887\"],[0.1111111111111111,\"#46039f\"],[0.2222222222222222,\"#7201a8\"],[0.3333333333333333,\"#9c179e\"],[0.4444444444444444,\"#bd3786\"],[0.5555555555555556,\"#d8576b\"],[0.6666666666666666,\"#ed7953\"],[0.7777777777777778,\"#fb9f3a\"],[0.8888888888888888,\"#fdca26\"],[1.0,\"#f0f921\"]]}],\"contourcarpet\":[{\"type\":\"contourcarpet\",\"colorbar\":{\"outlinewidth\":0,\"ticks\":\"\"}}],\"contour\":[{\"type\":\"contour\",\"colorbar\":{\"outlinewidth\":0,\"ticks\":\"\"},\"colorscale\":[[0.0,\"#0d0887\"],[0.1111111111111111,\"#46039f\"],[0.2222222222222222,\"#7201a8\"],[0.3333333333333333,\"#9c179e\"],[0.4444444444444444,\"#bd3786\"],[0.5555555555555556,\"#d8576b\"],[0.6666666666666666,\"#ed7953\"],[0.7777777777777778,\"#fb9f3a\"],[0.8888888888888888,\"#fdca26\"],[1.0,\"#f0f921\"]]}],\"surface\":[{\"type\":\"surface\",\"colorbar\":{\"outlinewidth\":0,\"ticks\":\"\"},\"colorscale\":[[0.0,\"#0d0887\"],[0.1111111111111111,\"#46039f\"],[0.2222222222222222,\"#7201a8\"],[0.3333333333333333,\"#9c179e\"],[0.4444444444444444,\"#bd3786\"],[0.5555555555555556,\"#d8576b\"],[0.6666666666666666,\"#ed7953\"],[0.7777777777777778,\"#fb9f3a\"],[0.8888888888888888,\"#fdca26\"],[1.0,\"#f0f921\"]]}],\"mesh3d\":[{\"type\":\"mesh3d\",\"colorbar\":{\"outlinewidth\":0,\"ticks\":\"\"}}],\"scatter\":[{\"fillpattern\":{\"fillmode\":\"overlay\",\"size\":10,\"solidity\":0.2},\"type\":\"scatter\"}],\"parcoords\":[{\"type\":\"parcoords\",\"line\":{\"colorbar\":{\"outlinewidth\":0,\"ticks\":\"\"}}}],\"scatterpolargl\":[{\"type\":\"scatterpolargl\",\"marker\":{\"colorbar\":{\"outlinewidth\":0,\"ticks\":\"\"}}}],\"bar\":[{\"error_x\":{\"color\":\"#2a3f5f\"},\"error_y\":{\"color\":\"#2a3f5f\"},\"marker\":{\"line\":{\"color\":\"#E5ECF6\",\"width\":0.5},\"pattern\":{\"fillmode\":\"overlay\",\"size\":10,\"solidity\":0.2}},\"type\":\"bar\"}],\"scattergeo\":[{\"type\":\"scattergeo\",\"marker\":{\"colorbar\":{\"outlinewidth\":0,\"ticks\":\"\"}}}],\"scatterpolar\":[{\"type\":\"scatterpolar\",\"marker\":{\"colorbar\":{\"outlinewidth\":0,\"ticks\":\"\"}}}],\"histogram\":[{\"marker\":{\"pattern\":{\"fillmode\":\"overlay\",\"size\":10,\"solidity\":0.2}},\"type\":\"histogram\"}],\"scattergl\":[{\"type\":\"scattergl\",\"marker\":{\"colorbar\":{\"outlinewidth\":0,\"ticks\":\"\"}}}],\"scatter3d\":[{\"type\":\"scatter3d\",\"line\":{\"colorbar\":{\"outlinewidth\":0,\"ticks\":\"\"}},\"marker\":{\"colorbar\":{\"outlinewidth\":0,\"ticks\":\"\"}}}],\"scattermapbox\":[{\"type\":\"scattermapbox\",\"marker\":{\"colorbar\":{\"outlinewidth\":0,\"ticks\":\"\"}}}],\"scatterternary\":[{\"type\":\"scatterternary\",\"marker\":{\"colorbar\":{\"outlinewidth\":0,\"ticks\":\"\"}}}],\"scattercarpet\":[{\"type\":\"scattercarpet\",\"marker\":{\"colorbar\":{\"outlinewidth\":0,\"ticks\":\"\"}}}],\"carpet\":[{\"aaxis\":{\"endlinecolor\":\"#2a3f5f\",\"gridcolor\":\"white\",\"linecolor\":\"white\",\"minorgridcolor\":\"white\",\"startlinecolor\":\"#2a3f5f\"},\"baxis\":{\"endlinecolor\":\"#2a3f5f\",\"gridcolor\":\"white\",\"linecolor\":\"white\",\"minorgridcolor\":\"white\",\"startlinecolor\":\"#2a3f5f\"},\"type\":\"carpet\"}],\"table\":[{\"cells\":{\"fill\":{\"color\":\"#EBF0F8\"},\"line\":{\"color\":\"white\"}},\"header\":{\"fill\":{\"color\":\"#C8D4E3\"},\"line\":{\"color\":\"white\"}},\"type\":\"table\"}],\"barpolar\":[{\"marker\":{\"line\":{\"color\":\"#E5ECF6\",\"width\":0.5},\"pattern\":{\"fillmode\":\"overlay\",\"size\":10,\"solidity\":0.2}},\"type\":\"barpolar\"}],\"pie\":[{\"automargin\":true,\"type\":\"pie\"}]},\"layout\":{\"autotypenumbers\":\"strict\",\"colorway\":[\"#636efa\",\"#EF553B\",\"#00cc96\",\"#ab63fa\",\"#FFA15A\",\"#19d3f3\",\"#FF6692\",\"#B6E880\",\"#FF97FF\",\"#FECB52\"],\"font\":{\"color\":\"#2a3f5f\"},\"hovermode\":\"closest\",\"hoverlabel\":{\"align\":\"left\"},\"paper_bgcolor\":\"white\",\"plot_bgcolor\":\"#E5ECF6\",\"polar\":{\"bgcolor\":\"#E5ECF6\",\"angularaxis\":{\"gridcolor\":\"white\",\"linecolor\":\"white\",\"ticks\":\"\"},\"radialaxis\":{\"gridcolor\":\"white\",\"linecolor\":\"white\",\"ticks\":\"\"}},\"ternary\":{\"bgcolor\":\"#E5ECF6\",\"aaxis\":{\"gridcolor\":\"white\",\"linecolor\":\"white\",\"ticks\":\"\"},\"baxis\":{\"gridcolor\":\"white\",\"linecolor\":\"white\",\"ticks\":\"\"},\"caxis\":{\"gridcolor\":\"white\",\"linecolor\":\"white\",\"ticks\":\"\"}},\"coloraxis\":{\"colorbar\":{\"outlinewidth\":0,\"ticks\":\"\"}},\"colorscale\":{\"sequential\":[[0.0,\"#0d0887\"],[0.1111111111111111,\"#46039f\"],[0.2222222222222222,\"#7201a8\"],[0.3333333333333333,\"#9c179e\"],[0.4444444444444444,\"#bd3786\"],[0.5555555555555556,\"#d8576b\"],[0.6666666666666666,\"#ed7953\"],[0.7777777777777778,\"#fb9f3a\"],[0.8888888888888888,\"#fdca26\"],[1.0,\"#f0f921\"]],\"sequentialminus\":[[0.0,\"#0d0887\"],[0.1111111111111111,\"#46039f\"],[0.2222222222222222,\"#7201a8\"],[0.3333333333333333,\"#9c179e\"],[0.4444444444444444,\"#bd3786\"],[0.5555555555555556,\"#d8576b\"],[0.6666666666666666,\"#ed7953\"],[0.7777777777777778,\"#fb9f3a\"],[0.8888888888888888,\"#fdca26\"],[1.0,\"#f0f921\"]],\"diverging\":[[0,\"#8e0152\"],[0.1,\"#c51b7d\"],[0.2,\"#de77ae\"],[0.3,\"#f1b6da\"],[0.4,\"#fde0ef\"],[0.5,\"#f7f7f7\"],[0.6,\"#e6f5d0\"],[0.7,\"#b8e186\"],[0.8,\"#7fbc41\"],[0.9,\"#4d9221\"],[1,\"#276419\"]]},\"xaxis\":{\"gridcolor\":\"white\",\"linecolor\":\"white\",\"ticks\":\"\",\"title\":{\"standoff\":15},\"zerolinecolor\":\"white\",\"automargin\":true,\"zerolinewidth\":2},\"yaxis\":{\"gridcolor\":\"white\",\"linecolor\":\"white\",\"ticks\":\"\",\"title\":{\"standoff\":15},\"zerolinecolor\":\"white\",\"automargin\":true,\"zerolinewidth\":2},\"scene\":{\"xaxis\":{\"backgroundcolor\":\"#E5ECF6\",\"gridcolor\":\"white\",\"linecolor\":\"white\",\"showbackground\":true,\"ticks\":\"\",\"zerolinecolor\":\"white\",\"gridwidth\":2},\"yaxis\":{\"backgroundcolor\":\"#E5ECF6\",\"gridcolor\":\"white\",\"linecolor\":\"white\",\"showbackground\":true,\"ticks\":\"\",\"zerolinecolor\":\"white\",\"gridwidth\":2},\"zaxis\":{\"backgroundcolor\":\"#E5ECF6\",\"gridcolor\":\"white\",\"linecolor\":\"white\",\"showbackground\":true,\"ticks\":\"\",\"zerolinecolor\":\"white\",\"gridwidth\":2}},\"shapedefaults\":{\"line\":{\"color\":\"#2a3f5f\"}},\"annotationdefaults\":{\"arrowcolor\":\"#2a3f5f\",\"arrowhead\":0,\"arrowwidth\":1},\"geo\":{\"bgcolor\":\"white\",\"landcolor\":\"#E5ECF6\",\"subunitcolor\":\"white\",\"showland\":true,\"showlakes\":true,\"lakecolor\":\"white\"},\"title\":{\"x\":0.05},\"mapbox\":{\"style\":\"light\"}}},\"xaxis\":{\"anchor\":\"y\",\"domain\":[0.0,0.7363],\"title\":{\"text\":\"x\"}},\"yaxis\":{\"anchor\":\"x\",\"domain\":[0.0,0.7326],\"title\":{\"text\":\"y\"}},\"xaxis2\":{\"anchor\":\"y2\",\"domain\":[0.7413,1.0],\"matches\":\"x2\",\"showticklabels\":false,\"showline\":false,\"ticks\":\"\",\"showgrid\":false},\"yaxis2\":{\"anchor\":\"x2\",\"domain\":[0.0,0.7326],\"matches\":\"y\",\"showticklabels\":false,\"showgrid\":true},\"xaxis3\":{\"anchor\":\"y3\",\"domain\":[0.0,0.7363],\"matches\":\"x\",\"showticklabels\":false,\"showgrid\":true},\"yaxis3\":{\"anchor\":\"x3\",\"domain\":[0.7426,1.0],\"matches\":\"y3\",\"showticklabels\":false,\"showline\":false,\"ticks\":\"\",\"showgrid\":false},\"xaxis4\":{\"anchor\":\"y4\",\"domain\":[0.7413,1.0],\"matches\":\"x2\",\"showticklabels\":false,\"showgrid\":false,\"showline\":false,\"ticks\":\"\"},\"yaxis4\":{\"anchor\":\"x4\",\"domain\":[0.7426,1.0],\"matches\":\"y3\",\"showticklabels\":false,\"showline\":false,\"ticks\":\"\",\"showgrid\":true},\"legend\":{\"title\":{\"text\":\"BodyPart\"},\"tracegroupgap\":0},\"title\":{\"text\":\"Injury distribution on synthetic surface\"},\"height\":600,\"width\":800},                        {\"responsive\": true}                    ).then(function(){\n",
       "                            \n",
       "var gd = document.getElementById('c91f3d4e-6f95-4772-b020-017bf8d6f3c2');\n",
       "var x = new MutationObserver(function (mutations, observer) {{\n",
       "        var display = window.getComputedStyle(gd).display;\n",
       "        if (!display || display === 'none') {{\n",
       "            console.log([gd, 'removed!']);\n",
       "            Plotly.purge(gd);\n",
       "            observer.disconnect();\n",
       "        }}\n",
       "}});\n",
       "\n",
       "// Listen for the removal of the full notebook cells\n",
       "var notebookContainer = gd.closest('#notebook-container');\n",
       "if (notebookContainer) {{\n",
       "    x.observe(notebookContainer, {childList: true});\n",
       "}}\n",
       "\n",
       "// Listen for the clearing of the current output cell\n",
       "var outputEl = gd.closest('.output');\n",
       "if (outputEl) {{\n",
       "    x.observe(outputEl, {childList: true});\n",
       "}}\n",
       "\n",
       "                        })                };                });            </script>        </div>"
      ]
     },
     "metadata": {},
     "output_type": "display_data"
    }
   ],
   "source": [
    "fig = px.density_contour(injured_nat, x=\"x\", y=\"y\", color=\"BodyPart\", marginal_x=\"box\", marginal_y=\"box\",width=800, height=600,title=\"Injury distribution on natural surface\")\n",
    "fig.show()\n",
    "fig.write_image(\"graphs/Injury distribution on natural surface.png\")\n",
    "bruh = px.density_contour(injured_syn, x=\"x\", y=\"y\", color=\"BodyPart\", marginal_x=\"box\", marginal_y=\"box\",width=800, height=600, title=\"Injury distribution on synthetic surface\")\n",
    "bruh.show()\n",
    "bruh.write_image(\"graphs/Injury distribution on synthetic surface.png\")"
   ]
  },
  {
   "cell_type": "raw",
   "id": "6fbed2b5-a1a9-4a60-8e31-f951103a5e94",
   "metadata": {},
   "source": []
  },
  {
   "cell_type": "code",
   "execution_count": 44,
   "id": "41b727cf-38b0-4d4c-a6e7-7c6835e464aa",
   "metadata": {},
   "outputs": [
    {
     "name": "stdout",
     "output_type": "stream",
     "text": [
      "239\n",
      "197\n",
      "118\n",
      "92\n"
     ]
    }
   ],
   "source": [
    "day1_syn=injured_syn['DM_M1'].value_counts()\n",
    "print(day1_syn[1])\n",
    "day7_syn=injured_syn['DM_M7'].value_counts()\n",
    "print(day7_syn[1])\n",
    "day28_syn=injured_syn['DM_M28'].value_counts()\n",
    "print(day28_syn[1])\n",
    "day42_syn=injured_syn['DM_M42'].value_counts()\n",
    "print(day42_syn[1])\n"
   ]
  },
  {
   "cell_type": "code",
   "execution_count": 45,
   "id": "94acf7e7-d4f4-49b8-b31e-5d1a72fc49f1",
   "metadata": {},
   "outputs": [
    {
     "name": "stdout",
     "output_type": "stream",
     "text": [
      "198\n",
      "142\n",
      "52\n",
      "39\n"
     ]
    }
   ],
   "source": [
    "day1_nat=injured_nat['DM_M1'].value_counts()\n",
    "print(day1_nat[1])\n",
    "day7_nat=injured_nat['DM_M7'].value_counts()\n",
    "print(day7_nat[1])\n",
    "day28_nat=injured_nat['DM_M28'].value_counts()\n",
    "print(day28_nat[1])\n",
    "day42_nat=injured_nat['DM_M42'].value_counts()\n",
    "print(day42_nat[1])\n"
   ]
  },
  {
   "cell_type": "code",
   "execution_count": null,
   "id": "1439adc7-7584-4ca7-8e7b-a41c62865b8a",
   "metadata": {},
   "outputs": [],
   "source": []
  }
 ],
 "metadata": {
  "kernelspec": {
   "display_name": "Python 3 (ipykernel)",
   "language": "python",
   "name": "python3"
  },
  "language_info": {
   "codemirror_mode": {
    "name": "ipython",
    "version": 3
   },
   "file_extension": ".py",
   "mimetype": "text/x-python",
   "name": "python",
   "nbconvert_exporter": "python",
   "pygments_lexer": "ipython3",
   "version": "3.10.2"
  },
  "vscode": {
   "interpreter": {
    "hash": "a775d68c7caa7466e6467fb23007def76106cad7ddbb74102d7b5c3b443bac69"
   }
  }
 },
 "nbformat": 4,
 "nbformat_minor": 5
}
